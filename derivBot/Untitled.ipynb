{
 "cells": [
  {
   "cell_type": "code",
   "execution_count": 2,
   "id": "1fe618e9",
   "metadata": {},
   "outputs": [],
   "source": [
    "import numpy as np\n",
    "import pandas as pd\n",
    "import random\n",
    "from collections import deque\n",
    "import time\n",
    "import warnings\n",
    "warnings.filterwarnings('ignore')"
   ]
  },
  {
   "cell_type": "code",
   "execution_count": 59,
   "id": "13039c7c-34a4-43e6-ba9e-e1bddf83ecaf",
   "metadata": {},
   "outputs": [],
   "source": [
    "df = pd.read_csv('EURUSD_M1.csv',sep = '\\t',\n",
    "                   engine = 'python')"
   ]
  },
  {
   "cell_type": "code",
   "execution_count": 60,
   "id": "07062449-a96c-490e-ad60-3c7fb0c6cf5d",
   "metadata": {},
   "outputs": [],
   "source": [
    "df.columns = ['Date', 'TIME', 'Open', 'High', 'Low', 'Close', 'TICKVOL',\n",
    "       'VOL', 'SPREAD']"
   ]
  },
  {
   "cell_type": "code",
   "execution_count": 61,
   "id": "2336873a-4a38-42db-b6a4-84bf1bc12db4",
   "metadata": {},
   "outputs": [
    {
     "data": {
      "text/html": [
       "<div>\n",
       "<style scoped>\n",
       "    .dataframe tbody tr th:only-of-type {\n",
       "        vertical-align: middle;\n",
       "    }\n",
       "\n",
       "    .dataframe tbody tr th {\n",
       "        vertical-align: top;\n",
       "    }\n",
       "\n",
       "    .dataframe thead th {\n",
       "        text-align: right;\n",
       "    }\n",
       "</style>\n",
       "<table border=\"1\" class=\"dataframe\">\n",
       "  <thead>\n",
       "    <tr style=\"text-align: right;\">\n",
       "      <th></th>\n",
       "      <th>Date</th>\n",
       "      <th>TIME</th>\n",
       "      <th>Open</th>\n",
       "      <th>High</th>\n",
       "      <th>Low</th>\n",
       "      <th>Close</th>\n",
       "      <th>TICKVOL</th>\n",
       "      <th>VOL</th>\n",
       "      <th>SPREAD</th>\n",
       "    </tr>\n",
       "  </thead>\n",
       "  <tbody>\n",
       "    <tr>\n",
       "      <th>0</th>\n",
       "      <td>2023.05.12</td>\n",
       "      <td>16:47:00</td>\n",
       "      <td>1.08831</td>\n",
       "      <td>1.08867</td>\n",
       "      <td>1.08828</td>\n",
       "      <td>1.08864</td>\n",
       "      <td>95</td>\n",
       "      <td>0</td>\n",
       "      <td>0</td>\n",
       "    </tr>\n",
       "    <tr>\n",
       "      <th>1</th>\n",
       "      <td>2023.05.12</td>\n",
       "      <td>16:48:00</td>\n",
       "      <td>1.08864</td>\n",
       "      <td>1.08869</td>\n",
       "      <td>1.08855</td>\n",
       "      <td>1.08861</td>\n",
       "      <td>95</td>\n",
       "      <td>0</td>\n",
       "      <td>0</td>\n",
       "    </tr>\n",
       "    <tr>\n",
       "      <th>2</th>\n",
       "      <td>2023.05.12</td>\n",
       "      <td>16:49:00</td>\n",
       "      <td>1.08861</td>\n",
       "      <td>1.08867</td>\n",
       "      <td>1.08851</td>\n",
       "      <td>1.08864</td>\n",
       "      <td>93</td>\n",
       "      <td>0</td>\n",
       "      <td>0</td>\n",
       "    </tr>\n",
       "    <tr>\n",
       "      <th>3</th>\n",
       "      <td>2023.05.12</td>\n",
       "      <td>16:50:00</td>\n",
       "      <td>1.08864</td>\n",
       "      <td>1.08876</td>\n",
       "      <td>1.08854</td>\n",
       "      <td>1.08871</td>\n",
       "      <td>111</td>\n",
       "      <td>0</td>\n",
       "      <td>0</td>\n",
       "    </tr>\n",
       "    <tr>\n",
       "      <th>4</th>\n",
       "      <td>2023.05.12</td>\n",
       "      <td>16:51:00</td>\n",
       "      <td>1.08874</td>\n",
       "      <td>1.08886</td>\n",
       "      <td>1.08873</td>\n",
       "      <td>1.08874</td>\n",
       "      <td>101</td>\n",
       "      <td>0</td>\n",
       "      <td>0</td>\n",
       "    </tr>\n",
       "    <tr>\n",
       "      <th>...</th>\n",
       "      <td>...</td>\n",
       "      <td>...</td>\n",
       "      <td>...</td>\n",
       "      <td>...</td>\n",
       "      <td>...</td>\n",
       "      <td>...</td>\n",
       "      <td>...</td>\n",
       "      <td>...</td>\n",
       "      <td>...</td>\n",
       "    </tr>\n",
       "    <tr>\n",
       "      <th>99995</th>\n",
       "      <td>2023.08.18</td>\n",
       "      <td>10:23:00</td>\n",
       "      <td>1.08737</td>\n",
       "      <td>1.08751</td>\n",
       "      <td>1.08735</td>\n",
       "      <td>1.08749</td>\n",
       "      <td>87</td>\n",
       "      <td>0</td>\n",
       "      <td>0</td>\n",
       "    </tr>\n",
       "    <tr>\n",
       "      <th>99996</th>\n",
       "      <td>2023.08.18</td>\n",
       "      <td>10:24:00</td>\n",
       "      <td>1.08749</td>\n",
       "      <td>1.08754</td>\n",
       "      <td>1.08744</td>\n",
       "      <td>1.08748</td>\n",
       "      <td>57</td>\n",
       "      <td>0</td>\n",
       "      <td>0</td>\n",
       "    </tr>\n",
       "    <tr>\n",
       "      <th>99997</th>\n",
       "      <td>2023.08.18</td>\n",
       "      <td>10:25:00</td>\n",
       "      <td>1.08748</td>\n",
       "      <td>1.08765</td>\n",
       "      <td>1.08744</td>\n",
       "      <td>1.08765</td>\n",
       "      <td>78</td>\n",
       "      <td>0</td>\n",
       "      <td>0</td>\n",
       "    </tr>\n",
       "    <tr>\n",
       "      <th>99998</th>\n",
       "      <td>2023.08.18</td>\n",
       "      <td>10:26:00</td>\n",
       "      <td>1.08765</td>\n",
       "      <td>1.08770</td>\n",
       "      <td>1.08757</td>\n",
       "      <td>1.08760</td>\n",
       "      <td>44</td>\n",
       "      <td>0</td>\n",
       "      <td>0</td>\n",
       "    </tr>\n",
       "    <tr>\n",
       "      <th>99999</th>\n",
       "      <td>2023.08.18</td>\n",
       "      <td>10:27:00</td>\n",
       "      <td>1.08760</td>\n",
       "      <td>1.08769</td>\n",
       "      <td>1.08760</td>\n",
       "      <td>1.08766</td>\n",
       "      <td>46</td>\n",
       "      <td>0</td>\n",
       "      <td>0</td>\n",
       "    </tr>\n",
       "  </tbody>\n",
       "</table>\n",
       "<p>100000 rows × 9 columns</p>\n",
       "</div>"
      ],
      "text/plain": [
       "             Date      TIME     Open     High      Low    Close  TICKVOL  VOL  \\\n",
       "0      2023.05.12  16:47:00  1.08831  1.08867  1.08828  1.08864       95    0   \n",
       "1      2023.05.12  16:48:00  1.08864  1.08869  1.08855  1.08861       95    0   \n",
       "2      2023.05.12  16:49:00  1.08861  1.08867  1.08851  1.08864       93    0   \n",
       "3      2023.05.12  16:50:00  1.08864  1.08876  1.08854  1.08871      111    0   \n",
       "4      2023.05.12  16:51:00  1.08874  1.08886  1.08873  1.08874      101    0   \n",
       "...           ...       ...      ...      ...      ...      ...      ...  ...   \n",
       "99995  2023.08.18  10:23:00  1.08737  1.08751  1.08735  1.08749       87    0   \n",
       "99996  2023.08.18  10:24:00  1.08749  1.08754  1.08744  1.08748       57    0   \n",
       "99997  2023.08.18  10:25:00  1.08748  1.08765  1.08744  1.08765       78    0   \n",
       "99998  2023.08.18  10:26:00  1.08765  1.08770  1.08757  1.08760       44    0   \n",
       "99999  2023.08.18  10:27:00  1.08760  1.08769  1.08760  1.08766       46    0   \n",
       "\n",
       "       SPREAD  \n",
       "0           0  \n",
       "1           0  \n",
       "2           0  \n",
       "3           0  \n",
       "4           0  \n",
       "...       ...  \n",
       "99995       0  \n",
       "99996       0  \n",
       "99997       0  \n",
       "99998       0  \n",
       "99999       0  \n",
       "\n",
       "[100000 rows x 9 columns]"
      ]
     },
     "execution_count": 61,
     "metadata": {},
     "output_type": "execute_result"
    }
   ],
   "source": [
    "df"
   ]
  },
  {
   "cell_type": "code",
   "execution_count": 62,
   "id": "2d715750-020a-4ccb-9412-3778b8ded68a",
   "metadata": {},
   "outputs": [],
   "source": [
    "df=df.iloc[:,1:]"
   ]
  },
  {
   "cell_type": "code",
   "execution_count": 6,
   "id": "ec1f026f-1c1d-4bb0-8545-fda2bfb4469f",
   "metadata": {},
   "outputs": [],
   "source": [
    "# pd.Timestamp(df['Date'][0])\n",
    "# df['ut']= pd.to_datetime(df['Date']).map(pd.Timestamp.timestamp)"
   ]
  },
  {
   "cell_type": "code",
   "execution_count": 7,
   "id": "e0d25abb-2366-4f0b-a13d-03ccd6ebcb29",
   "metadata": {},
   "outputs": [],
   "source": [
    "# df=df.astype({'ut':'int'})\n",
    "# df['year'] = pd.DatetimeIndex(df['Date']).year\n",
    "# df['month'] = pd.DatetimeIndex(df['Date']).month\n",
    "# df['day'] = pd.DatetimeIndex(df['Date']).day\n",
    "# df['hour'] = pd.DatetimeIndex(df['Date']).hour\n",
    "# df['minute'] = pd.DatetimeIndex(df['Date']).minute"
   ]
  },
  {
   "cell_type": "code",
   "execution_count": 8,
   "id": "df5e1f52-9fcd-42d0-8484-d6adb1ec687a",
   "metadata": {},
   "outputs": [
    {
     "data": {
      "text/html": [
       "<div>\n",
       "<style scoped>\n",
       "    .dataframe tbody tr th:only-of-type {\n",
       "        vertical-align: middle;\n",
       "    }\n",
       "\n",
       "    .dataframe tbody tr th {\n",
       "        vertical-align: top;\n",
       "    }\n",
       "\n",
       "    .dataframe thead th {\n",
       "        text-align: right;\n",
       "    }\n",
       "</style>\n",
       "<table border=\"1\" class=\"dataframe\">\n",
       "  <thead>\n",
       "    <tr style=\"text-align: right;\">\n",
       "      <th></th>\n",
       "      <th>TIME</th>\n",
       "      <th>Open</th>\n",
       "      <th>High</th>\n",
       "      <th>Low</th>\n",
       "      <th>Close</th>\n",
       "      <th>TICKVOL</th>\n",
       "      <th>VOL</th>\n",
       "      <th>SPREAD</th>\n",
       "    </tr>\n",
       "  </thead>\n",
       "  <tbody>\n",
       "    <tr>\n",
       "      <th>0</th>\n",
       "      <td>16:47:00</td>\n",
       "      <td>1.08831</td>\n",
       "      <td>1.08867</td>\n",
       "      <td>1.08828</td>\n",
       "      <td>1.08864</td>\n",
       "      <td>95</td>\n",
       "      <td>0</td>\n",
       "      <td>0</td>\n",
       "    </tr>\n",
       "    <tr>\n",
       "      <th>1</th>\n",
       "      <td>16:48:00</td>\n",
       "      <td>1.08864</td>\n",
       "      <td>1.08869</td>\n",
       "      <td>1.08855</td>\n",
       "      <td>1.08861</td>\n",
       "      <td>95</td>\n",
       "      <td>0</td>\n",
       "      <td>0</td>\n",
       "    </tr>\n",
       "    <tr>\n",
       "      <th>2</th>\n",
       "      <td>16:49:00</td>\n",
       "      <td>1.08861</td>\n",
       "      <td>1.08867</td>\n",
       "      <td>1.08851</td>\n",
       "      <td>1.08864</td>\n",
       "      <td>93</td>\n",
       "      <td>0</td>\n",
       "      <td>0</td>\n",
       "    </tr>\n",
       "    <tr>\n",
       "      <th>3</th>\n",
       "      <td>16:50:00</td>\n",
       "      <td>1.08864</td>\n",
       "      <td>1.08876</td>\n",
       "      <td>1.08854</td>\n",
       "      <td>1.08871</td>\n",
       "      <td>111</td>\n",
       "      <td>0</td>\n",
       "      <td>0</td>\n",
       "    </tr>\n",
       "    <tr>\n",
       "      <th>4</th>\n",
       "      <td>16:51:00</td>\n",
       "      <td>1.08874</td>\n",
       "      <td>1.08886</td>\n",
       "      <td>1.08873</td>\n",
       "      <td>1.08874</td>\n",
       "      <td>101</td>\n",
       "      <td>0</td>\n",
       "      <td>0</td>\n",
       "    </tr>\n",
       "    <tr>\n",
       "      <th>...</th>\n",
       "      <td>...</td>\n",
       "      <td>...</td>\n",
       "      <td>...</td>\n",
       "      <td>...</td>\n",
       "      <td>...</td>\n",
       "      <td>...</td>\n",
       "      <td>...</td>\n",
       "      <td>...</td>\n",
       "    </tr>\n",
       "    <tr>\n",
       "      <th>99995</th>\n",
       "      <td>10:23:00</td>\n",
       "      <td>1.08737</td>\n",
       "      <td>1.08751</td>\n",
       "      <td>1.08735</td>\n",
       "      <td>1.08749</td>\n",
       "      <td>87</td>\n",
       "      <td>0</td>\n",
       "      <td>0</td>\n",
       "    </tr>\n",
       "    <tr>\n",
       "      <th>99996</th>\n",
       "      <td>10:24:00</td>\n",
       "      <td>1.08749</td>\n",
       "      <td>1.08754</td>\n",
       "      <td>1.08744</td>\n",
       "      <td>1.08748</td>\n",
       "      <td>57</td>\n",
       "      <td>0</td>\n",
       "      <td>0</td>\n",
       "    </tr>\n",
       "    <tr>\n",
       "      <th>99997</th>\n",
       "      <td>10:25:00</td>\n",
       "      <td>1.08748</td>\n",
       "      <td>1.08765</td>\n",
       "      <td>1.08744</td>\n",
       "      <td>1.08765</td>\n",
       "      <td>78</td>\n",
       "      <td>0</td>\n",
       "      <td>0</td>\n",
       "    </tr>\n",
       "    <tr>\n",
       "      <th>99998</th>\n",
       "      <td>10:26:00</td>\n",
       "      <td>1.08765</td>\n",
       "      <td>1.08770</td>\n",
       "      <td>1.08757</td>\n",
       "      <td>1.08760</td>\n",
       "      <td>44</td>\n",
       "      <td>0</td>\n",
       "      <td>0</td>\n",
       "    </tr>\n",
       "    <tr>\n",
       "      <th>99999</th>\n",
       "      <td>10:27:00</td>\n",
       "      <td>1.08760</td>\n",
       "      <td>1.08769</td>\n",
       "      <td>1.08760</td>\n",
       "      <td>1.08766</td>\n",
       "      <td>46</td>\n",
       "      <td>0</td>\n",
       "      <td>0</td>\n",
       "    </tr>\n",
       "  </tbody>\n",
       "</table>\n",
       "<p>100000 rows × 8 columns</p>\n",
       "</div>"
      ],
      "text/plain": [
       "           TIME     Open     High      Low    Close  TICKVOL  VOL  SPREAD\n",
       "0      16:47:00  1.08831  1.08867  1.08828  1.08864       95    0       0\n",
       "1      16:48:00  1.08864  1.08869  1.08855  1.08861       95    0       0\n",
       "2      16:49:00  1.08861  1.08867  1.08851  1.08864       93    0       0\n",
       "3      16:50:00  1.08864  1.08876  1.08854  1.08871      111    0       0\n",
       "4      16:51:00  1.08874  1.08886  1.08873  1.08874      101    0       0\n",
       "...         ...      ...      ...      ...      ...      ...  ...     ...\n",
       "99995  10:23:00  1.08737  1.08751  1.08735  1.08749       87    0       0\n",
       "99996  10:24:00  1.08749  1.08754  1.08744  1.08748       57    0       0\n",
       "99997  10:25:00  1.08748  1.08765  1.08744  1.08765       78    0       0\n",
       "99998  10:26:00  1.08765  1.08770  1.08757  1.08760       44    0       0\n",
       "99999  10:27:00  1.08760  1.08769  1.08760  1.08766       46    0       0\n",
       "\n",
       "[100000 rows x 8 columns]"
      ]
     },
     "execution_count": 8,
     "metadata": {},
     "output_type": "execute_result"
    }
   ],
   "source": [
    "df"
   ]
  },
  {
   "cell_type": "code",
   "execution_count": 63,
   "id": "7e51d276-cb75-4940-b96f-3f9e4098318a",
   "metadata": {},
   "outputs": [],
   "source": [
    "def bionic_pullback(row):\n",
    "    '''\n",
    "    0-5%: excellent strong candle close.\n",
    "    5-10%: very strong candle close.\n",
    "    10-20%: strong candle close.\n",
    "    20-25%: good candle close.\n",
    "    25-30%: ok candle close.\n",
    "    30-35%: doubtful candle close.\n",
    "    35-50% indecisive candle close.\n",
    "    50-67%: weak candle close.\n",
    "    67-100% very weak / reversal candle close.\n",
    "    \n",
    "    \n",
    "    for wicks and pullback:-\n",
    "    The best breakouts have candles which close near the top 20% of the candle size.\n",
    "    They work ok with wicks between 20 and 30%.\n",
    "    Risky between 30 and 40%.\n",
    "    Turn easier into false breaks out above 40%.\n",
    "    Can lead into reversals more often above 67%.\n",
    "    '''\n",
    "    candles_size_ratio=0\n",
    "    if row.Candles == 1:\n",
    "        body=(row.High-row.Close)\n",
    "        pullback=(row.Close-row.Low)\n",
    "        candles_size_ratio=(row.Close-row.Low)/(row.High-row.Low)\n",
    "    elif row.Candles == 2:\n",
    "        body=(row.Close-row.Low)\n",
    "        pullback=(row.High-row.Close)\n",
    "        candles_size_ratio=(row.Close-row.Low)/(row.High-row.Low)\n",
    "    else:\n",
    "        body=0\n",
    "        pullback=0\n",
    "    return (round(body,5)*100000,round(pullback,5)*100000,candles_size_ratio*100)\n",
    "def finding_candles_patterns(df):\n",
    "    conditions=[\n",
    "        df['Close']>df['Open'],\n",
    "        df['Close']<df['Open'],\n",
    "        df['Close']==df['Open']\n",
    "    ]\n",
    "    values=[2,1,0]#2 for up and 1 for down and 0 for doji pattern\n",
    "    df['Candles'] = np.select(conditions, values)\n",
    "    # candles_lst=df['Candles'].values.tolist()\n",
    "    # result=containsPattern(candles_lst,3)\n",
    "    # display(df)\n",
    "    # print(candles_lst)\n",
    "    return df\n",
    "df=finding_candles_patterns(df)\n",
    "df[[\"Body\",\"Pullback\",\"Candle_Ratio\"]] = df.apply(lambda x: bionic_pullback(x), axis=1, result_type=\"expand\")"
   ]
  },
  {
   "cell_type": "code",
   "execution_count": 64,
   "id": "20830137-2638-444f-b548-ac478df64e7d",
   "metadata": {},
   "outputs": [],
   "source": [
    "indexes = df.index"
   ]
  },
  {
   "cell_type": "code",
   "execution_count": 65,
   "id": "368182ae-946c-4e8c-9afb-82f29b4cc451",
   "metadata": {},
   "outputs": [
    {
     "data": {
      "text/plain": [
       "Index(['TIME', 'Open', 'High', 'Low', 'Close', 'TICKVOL', 'VOL', 'SPREAD',\n",
       "       'Candles', 'Body', 'Pullback', 'Candle_Ratio'],\n",
       "      dtype='object')"
      ]
     },
     "execution_count": 65,
     "metadata": {},
     "output_type": "execute_result"
    }
   ],
   "source": [
    "df.columns"
   ]
  },
  {
   "cell_type": "code",
   "execution_count": 66,
   "id": "5c1b5371-5a51-405c-a5a8-04387161d41e",
   "metadata": {},
   "outputs": [],
   "source": [
    "df=df[['Open', 'High', 'Low', 'Close','Body', 'Pullback', 'Candle_Ratio']]\n",
    "\n",
    "# df=df[['Open', 'High', 'Low', 'Close','year',\n",
    "#        'month', 'day', 'hour', 'minute']]\n",
    "# df=df[['Open', 'High', 'Low', 'Close']]"
   ]
  },
  {
   "cell_type": "code",
   "execution_count": 67,
   "id": "430ab6c5-b1a1-4653-a8bb-da5379171abe",
   "metadata": {},
   "outputs": [
    {
     "data": {
      "text/html": [
       "<div>\n",
       "<style scoped>\n",
       "    .dataframe tbody tr th:only-of-type {\n",
       "        vertical-align: middle;\n",
       "    }\n",
       "\n",
       "    .dataframe tbody tr th {\n",
       "        vertical-align: top;\n",
       "    }\n",
       "\n",
       "    .dataframe thead th {\n",
       "        text-align: right;\n",
       "    }\n",
       "</style>\n",
       "<table border=\"1\" class=\"dataframe\">\n",
       "  <thead>\n",
       "    <tr style=\"text-align: right;\">\n",
       "      <th></th>\n",
       "      <th>Open</th>\n",
       "      <th>High</th>\n",
       "      <th>Low</th>\n",
       "      <th>Close</th>\n",
       "      <th>Body</th>\n",
       "      <th>Pullback</th>\n",
       "      <th>Candle_Ratio</th>\n",
       "    </tr>\n",
       "  </thead>\n",
       "  <tbody>\n",
       "    <tr>\n",
       "      <th>0</th>\n",
       "      <td>1.08831</td>\n",
       "      <td>1.08867</td>\n",
       "      <td>1.08828</td>\n",
       "      <td>1.08864</td>\n",
       "      <td>36.0</td>\n",
       "      <td>3.0</td>\n",
       "      <td>92.307692</td>\n",
       "    </tr>\n",
       "  </tbody>\n",
       "</table>\n",
       "</div>"
      ],
      "text/plain": [
       "      Open     High      Low    Close  Body  Pullback  Candle_Ratio\n",
       "0  1.08831  1.08867  1.08828  1.08864  36.0       3.0     92.307692"
      ]
     },
     "execution_count": 67,
     "metadata": {},
     "output_type": "execute_result"
    }
   ],
   "source": [
    "df.head(1)"
   ]
  },
  {
   "cell_type": "code",
   "execution_count": 68,
   "id": "8ac3e00a-0c14-4e22-8319-fb6889f331c6",
   "metadata": {},
   "outputs": [],
   "source": [
    "n = 3\n",
    "from scipy.signal import argrelextrema\n",
    "df['min'] = df.iloc[argrelextrema(df.Close.values, np.less_equal,\n",
    "                    order=n)[0]]['Close']\n",
    "df['max'] = df.iloc[argrelextrema(df.Close.values, np.greater_equal,\n",
    "                    order=n)[0]]['Close']"
   ]
  },
  {
   "cell_type": "code",
   "execution_count": 69,
   "id": "d130d000-2f61-440d-88c7-f353f667f584",
   "metadata": {},
   "outputs": [
    {
     "data": {
      "text/html": [
       "<div>\n",
       "<style scoped>\n",
       "    .dataframe tbody tr th:only-of-type {\n",
       "        vertical-align: middle;\n",
       "    }\n",
       "\n",
       "    .dataframe tbody tr th {\n",
       "        vertical-align: top;\n",
       "    }\n",
       "\n",
       "    .dataframe thead th {\n",
       "        text-align: right;\n",
       "    }\n",
       "</style>\n",
       "<table border=\"1\" class=\"dataframe\">\n",
       "  <thead>\n",
       "    <tr style=\"text-align: right;\">\n",
       "      <th></th>\n",
       "      <th>Open</th>\n",
       "      <th>High</th>\n",
       "      <th>Low</th>\n",
       "      <th>Close</th>\n",
       "      <th>Body</th>\n",
       "      <th>Pullback</th>\n",
       "      <th>Candle_Ratio</th>\n",
       "      <th>min</th>\n",
       "      <th>max</th>\n",
       "    </tr>\n",
       "  </thead>\n",
       "  <tbody>\n",
       "    <tr>\n",
       "      <th>0</th>\n",
       "      <td>1.08831</td>\n",
       "      <td>1.08867</td>\n",
       "      <td>1.08828</td>\n",
       "      <td>1.08864</td>\n",
       "      <td>36.0</td>\n",
       "      <td>3.0</td>\n",
       "      <td>92.307692</td>\n",
       "      <td>NaN</td>\n",
       "      <td>NaN</td>\n",
       "    </tr>\n",
       "  </tbody>\n",
       "</table>\n",
       "</div>"
      ],
      "text/plain": [
       "      Open     High      Low    Close  Body  Pullback  Candle_Ratio  min  max\n",
       "0  1.08831  1.08867  1.08828  1.08864  36.0       3.0     92.307692  NaN  NaN"
      ]
     },
     "execution_count": 69,
     "metadata": {},
     "output_type": "execute_result"
    }
   ],
   "source": [
    "df.head(1)"
   ]
  },
  {
   "cell_type": "code",
   "execution_count": 70,
   "id": "022d8b1e-c8c7-4c55-9540-cb78cc9bca1b",
   "metadata": {},
   "outputs": [
    {
     "data": {
      "text/html": [
       "<div>\n",
       "<style scoped>\n",
       "    .dataframe tbody tr th:only-of-type {\n",
       "        vertical-align: middle;\n",
       "    }\n",
       "\n",
       "    .dataframe tbody tr th {\n",
       "        vertical-align: top;\n",
       "    }\n",
       "\n",
       "    .dataframe thead th {\n",
       "        text-align: right;\n",
       "    }\n",
       "</style>\n",
       "<table border=\"1\" class=\"dataframe\">\n",
       "  <thead>\n",
       "    <tr style=\"text-align: right;\">\n",
       "      <th></th>\n",
       "      <th>Open</th>\n",
       "      <th>High</th>\n",
       "      <th>Low</th>\n",
       "      <th>Close</th>\n",
       "      <th>Body</th>\n",
       "      <th>Pullback</th>\n",
       "      <th>Candle_Ratio</th>\n",
       "      <th>min</th>\n",
       "      <th>max</th>\n",
       "    </tr>\n",
       "  </thead>\n",
       "  <tbody>\n",
       "    <tr>\n",
       "      <th>0</th>\n",
       "      <td>1.08831</td>\n",
       "      <td>1.08867</td>\n",
       "      <td>1.08828</td>\n",
       "      <td>1.08864</td>\n",
       "      <td>36.0</td>\n",
       "      <td>3.0</td>\n",
       "      <td>92.307692</td>\n",
       "      <td>0.0</td>\n",
       "      <td>0.0</td>\n",
       "    </tr>\n",
       "  </tbody>\n",
       "</table>\n",
       "</div>"
      ],
      "text/plain": [
       "      Open     High      Low    Close  Body  Pullback  Candle_Ratio  min  max\n",
       "0  1.08831  1.08867  1.08828  1.08864  36.0       3.0     92.307692  0.0  0.0"
      ]
     },
     "execution_count": 70,
     "metadata": {},
     "output_type": "execute_result"
    }
   ],
   "source": [
    "df['min'].loc[~df['min'].isnull()] = 1  # not nan\n",
    "df['min'].loc[df['min'].isnull()] = 0  # nan\n",
    "df['max'].loc[~df['max'].isnull()] = 1  # not nan\n",
    "df['max'].loc[df['max'].isnull()] = 0  # nan\n",
    "df.head(1)"
   ]
  },
  {
   "cell_type": "code",
   "execution_count": 71,
   "id": "d4ff3a44-fd99-4694-bd60-1472e04d8381",
   "metadata": {},
   "outputs": [],
   "source": [
    "one_hot_data=np.array(df[['min','max']].values.tolist())\n",
    "df['label_snr']=np.argmax(one_hot_data, axis=1)"
   ]
  },
  {
   "cell_type": "code",
   "execution_count": 11,
   "id": "1759ec5b-19b4-4fed-88ec-b583eb215155",
   "metadata": {},
   "outputs": [],
   "source": [
    "FUTURE_PERIOD_PREDICT = 2\n",
    "SEQ_LEN = 8"
   ]
  },
  {
   "cell_type": "code",
   "execution_count": 73,
   "id": "d8e00ce5-9189-4c8e-8b2e-d0f2751da670",
   "metadata": {},
   "outputs": [],
   "source": [
    "df['future'] = df[\"Close\"].shift(-FUTURE_PERIOD_PREDICT)\n",
    "# df['fut1'] = df[\"Close\"].shift(3)"
   ]
  },
  {
   "cell_type": "code",
   "execution_count": 74,
   "id": "9856721e-00e7-4fa0-be59-47f79b723d1f",
   "metadata": {},
   "outputs": [],
   "source": [
    "# df[\"imbalance\"]=(df[\"Close\"]-df[\"fut1\"])*10000"
   ]
  },
  {
   "cell_type": "code",
   "execution_count": 75,
   "id": "5be9ac90-76ea-4ac1-a5ea-1c83d2bbc897",
   "metadata": {},
   "outputs": [
    {
     "data": {
      "text/html": [
       "<div>\n",
       "<style scoped>\n",
       "    .dataframe tbody tr th:only-of-type {\n",
       "        vertical-align: middle;\n",
       "    }\n",
       "\n",
       "    .dataframe tbody tr th {\n",
       "        vertical-align: top;\n",
       "    }\n",
       "\n",
       "    .dataframe thead th {\n",
       "        text-align: right;\n",
       "    }\n",
       "</style>\n",
       "<table border=\"1\" class=\"dataframe\">\n",
       "  <thead>\n",
       "    <tr style=\"text-align: right;\">\n",
       "      <th></th>\n",
       "      <th>Open</th>\n",
       "      <th>High</th>\n",
       "      <th>Low</th>\n",
       "      <th>Close</th>\n",
       "      <th>Body</th>\n",
       "      <th>Pullback</th>\n",
       "      <th>Candle_Ratio</th>\n",
       "      <th>min</th>\n",
       "      <th>max</th>\n",
       "      <th>label_snr</th>\n",
       "      <th>future</th>\n",
       "    </tr>\n",
       "  </thead>\n",
       "  <tbody>\n",
       "    <tr>\n",
       "      <th>0</th>\n",
       "      <td>1.08831</td>\n",
       "      <td>1.08867</td>\n",
       "      <td>1.08828</td>\n",
       "      <td>1.08864</td>\n",
       "      <td>36.0</td>\n",
       "      <td>3.0</td>\n",
       "      <td>92.307692</td>\n",
       "      <td>0.0</td>\n",
       "      <td>0.0</td>\n",
       "      <td>0</td>\n",
       "      <td>1.08864</td>\n",
       "    </tr>\n",
       "  </tbody>\n",
       "</table>\n",
       "</div>"
      ],
      "text/plain": [
       "      Open     High      Low    Close  Body  Pullback  Candle_Ratio  min  max  \\\n",
       "0  1.08831  1.08867  1.08828  1.08864  36.0       3.0     92.307692  0.0  0.0   \n",
       "\n",
       "   label_snr   future  \n",
       "0          0  1.08864  "
      ]
     },
     "execution_count": 75,
     "metadata": {},
     "output_type": "execute_result"
    }
   ],
   "source": [
    "df.head(1)"
   ]
  },
  {
   "cell_type": "code",
   "execution_count": 76,
   "id": "e1724582-576e-400c-93a8-77811b6461e6",
   "metadata": {},
   "outputs": [],
   "source": [
    "# Apply the function\n",
    "# df = df.fillna(0)"
   ]
  },
  {
   "cell_type": "code",
   "execution_count": 77,
   "id": "fbc225ba-93fa-4140-a7c4-4d701bb5cdf3",
   "metadata": {},
   "outputs": [],
   "source": [
    "def classify(current,future):\n",
    "    if float(future) > float(current):\n",
    "        return 1\n",
    "    else:\n",
    "        return 0"
   ]
  },
  {
   "cell_type": "code",
   "execution_count": 78,
   "id": "6f4ba147-13bb-41c6-9b50-9cf257d21a1f",
   "metadata": {},
   "outputs": [],
   "source": [
    "def sma(price, period):\n",
    "    sma = price.rolling(period).mean()\n",
    "    return sma\n",
    "\n",
    "def ao(price, period1, period2):\n",
    "    median = price.rolling(2).median()\n",
    "    short = sma(median, period1)\n",
    "    long = sma(median, period2)\n",
    "    ao = short - long\n",
    "    ao_df = pd.DataFrame(ao).rename(columns = {'Close':'ao'})\n",
    "    return ao_df\n",
    "\n",
    "df['ao'] = ao(df['Close'], 5, 34)"
   ]
  },
  {
   "cell_type": "code",
   "execution_count": 79,
   "id": "6e1f60cb-1884-4879-af48-fd2a4dca178d",
   "metadata": {},
   "outputs": [],
   "source": [
    "df['MA_20'] = df['Close'].rolling(window = 20).mean() #moving average 20\n",
    "df['MA_50'] = df['Close'].rolling(window = 50).mean() #moving average 50\n",
    "\n",
    "\n",
    "df['L14'] = df['Low'].rolling(window=14).min()\n",
    "df['H14'] = df['High'].rolling(window=14).max()\n",
    "df['%K'] = 100*((df['Close'] - df['L14']) / (df['H14'] - df['L14']) ) #stochastic oscilator\n",
    "df['%D'] = df['%K'].rolling(window=3).mean()\n",
    "\n",
    "df['EMA_20'] = df['Close'].ewm(span = 20, adjust = False).mean() #exponential moving average\n",
    "df['EMA_50'] = df['Close'].ewm(span = 50, adjust = False).mean()\n",
    "\n",
    "rsi_period = 14 \n",
    "chg = df['Close'].diff(1)\n",
    "gain = chg.mask(chg<0,0)\n",
    "df['gain'] = gain\n",
    "loss = chg.mask(chg>0,0)\n",
    "df['loss'] = loss\n",
    "avg_gain = gain.ewm(com = rsi_period - 1, min_periods = rsi_period).mean()\n",
    "avg_loss = loss.ewm(com = rsi_period - 1, min_periods = rsi_period).mean()\n",
    "\n",
    "df['avg_gain'] = avg_gain\n",
    "df['avg_loss'] = avg_loss\n",
    "rs = abs(avg_gain/avg_loss)\n",
    "df['rsi'] = 100-(100/(1+rs)) #rsi index\n",
    "\n",
    "df = df.drop(columns = {'Open','Low','High','avg_gain','avg_loss','L14','H14','gain','loss'}) #drop columns that are too correlated or are in somehow inside others\n",
    "\n",
    "df = df.dropna()\n",
    "dataset = df.fillna(method=\"ffill\")\n",
    "dataset = dataset.dropna()\n",
    "\n",
    "dataset.sort_index(inplace = True)\n",
    "\n",
    "main_df = dataset\n",
    "\n",
    "main_df.fillna(method=\"ffill\", inplace=True)  # if there are gaps in data, use previously known values\n",
    "main_df.dropna(inplace=True)\n",
    "\n",
    "main_df['target'] = list(map(classify, main_df['Close'], main_df['future']))\n",
    "\n",
    "main_df.dropna(inplace=True)\n",
    "\n",
    "main_df['target'].value_counts()\n",
    "\n",
    "main_df.dropna(inplace=True)\n",
    "\n",
    "main_df = main_df.astype('float32')\n",
    "\n",
    "times = sorted(main_df.index.values)\n",
    "last_5pct = sorted(main_df.index.values)[-int(0.1*len(times))]\n",
    "\n",
    "validation_main_df = main_df[(main_df.index >= last_5pct)]\n",
    "main_df = main_df[(main_df.index < last_5pct)]"
   ]
  },
  {
   "cell_type": "code",
   "execution_count": 80,
   "id": "e1e5f5ea-4b05-414b-adaf-9e2df2732ef1",
   "metadata": {},
   "outputs": [
    {
     "data": {
      "text/html": [
       "<div>\n",
       "<style scoped>\n",
       "    .dataframe tbody tr th:only-of-type {\n",
       "        vertical-align: middle;\n",
       "    }\n",
       "\n",
       "    .dataframe tbody tr th {\n",
       "        vertical-align: top;\n",
       "    }\n",
       "\n",
       "    .dataframe thead th {\n",
       "        text-align: right;\n",
       "    }\n",
       "</style>\n",
       "<table border=\"1\" class=\"dataframe\">\n",
       "  <thead>\n",
       "    <tr style=\"text-align: right;\">\n",
       "      <th></th>\n",
       "      <th>Close</th>\n",
       "      <th>Body</th>\n",
       "      <th>Pullback</th>\n",
       "      <th>Candle_Ratio</th>\n",
       "      <th>min</th>\n",
       "      <th>max</th>\n",
       "      <th>label_snr</th>\n",
       "      <th>future</th>\n",
       "      <th>ao</th>\n",
       "      <th>MA_20</th>\n",
       "      <th>MA_50</th>\n",
       "      <th>%K</th>\n",
       "      <th>%D</th>\n",
       "      <th>EMA_20</th>\n",
       "      <th>EMA_50</th>\n",
       "      <th>rsi</th>\n",
       "      <th>target</th>\n",
       "    </tr>\n",
       "  </thead>\n",
       "  <tbody>\n",
       "    <tr>\n",
       "      <th>49</th>\n",
       "      <td>1.08754</td>\n",
       "      <td>19.0</td>\n",
       "      <td>5.0</td>\n",
       "      <td>20.833334</td>\n",
       "      <td>0.0</td>\n",
       "      <td>0.0</td>\n",
       "      <td>0.0</td>\n",
       "      <td>1.08751</td>\n",
       "      <td>-0.000645</td>\n",
       "      <td>1.087979</td>\n",
       "      <td>1.088506</td>\n",
       "      <td>6.756757</td>\n",
       "      <td>11.323766</td>\n",
       "      <td>1.087984</td>\n",
       "      <td>1.088308</td>\n",
       "      <td>30.361774</td>\n",
       "      <td>0.0</td>\n",
       "    </tr>\n",
       "    <tr>\n",
       "      <th>50</th>\n",
       "      <td>1.08772</td>\n",
       "      <td>21.0</td>\n",
       "      <td>3.0</td>\n",
       "      <td>87.500000</td>\n",
       "      <td>0.0</td>\n",
       "      <td>0.0</td>\n",
       "      <td>0.0</td>\n",
       "      <td>1.08757</td>\n",
       "      <td>-0.000621</td>\n",
       "      <td>1.087952</td>\n",
       "      <td>1.088487</td>\n",
       "      <td>33.823528</td>\n",
       "      <td>18.365471</td>\n",
       "      <td>1.087959</td>\n",
       "      <td>1.088285</td>\n",
       "      <td>38.270931</td>\n",
       "      <td>0.0</td>\n",
       "    </tr>\n",
       "    <tr>\n",
       "      <th>51</th>\n",
       "      <td>1.08751</td>\n",
       "      <td>21.0</td>\n",
       "      <td>10.0</td>\n",
       "      <td>32.258064</td>\n",
       "      <td>0.0</td>\n",
       "      <td>0.0</td>\n",
       "      <td>0.0</td>\n",
       "      <td>1.08747</td>\n",
       "      <td>-0.000588</td>\n",
       "      <td>1.087914</td>\n",
       "      <td>1.088465</td>\n",
       "      <td>13.157895</td>\n",
       "      <td>17.912727</td>\n",
       "      <td>1.087916</td>\n",
       "      <td>1.088255</td>\n",
       "      <td>33.491768</td>\n",
       "      <td>0.0</td>\n",
       "    </tr>\n",
       "    <tr>\n",
       "      <th>52</th>\n",
       "      <td>1.08757</td>\n",
       "      <td>9.0</td>\n",
       "      <td>2.0</td>\n",
       "      <td>81.818184</td>\n",
       "      <td>0.0</td>\n",
       "      <td>0.0</td>\n",
       "      <td>0.0</td>\n",
       "      <td>1.08766</td>\n",
       "      <td>-0.000570</td>\n",
       "      <td>1.087875</td>\n",
       "      <td>1.088444</td>\n",
       "      <td>21.052631</td>\n",
       "      <td>22.678019</td>\n",
       "      <td>1.087883</td>\n",
       "      <td>1.088228</td>\n",
       "      <td>35.952702</td>\n",
       "      <td>1.0</td>\n",
       "    </tr>\n",
       "    <tr>\n",
       "      <th>53</th>\n",
       "      <td>1.08747</td>\n",
       "      <td>20.0</td>\n",
       "      <td>1.0</td>\n",
       "      <td>4.761905</td>\n",
       "      <td>1.0</td>\n",
       "      <td>0.0</td>\n",
       "      <td>0.0</td>\n",
       "      <td>1.08748</td>\n",
       "      <td>-0.000560</td>\n",
       "      <td>1.087834</td>\n",
       "      <td>1.088419</td>\n",
       "      <td>7.894737</td>\n",
       "      <td>14.035088</td>\n",
       "      <td>1.087844</td>\n",
       "      <td>1.088198</td>\n",
       "      <td>33.713650</td>\n",
       "      <td>1.0</td>\n",
       "    </tr>\n",
       "  </tbody>\n",
       "</table>\n",
       "</div>"
      ],
      "text/plain": [
       "      Close  Body  Pullback  Candle_Ratio  min  max  label_snr   future  \\\n",
       "49  1.08754  19.0       5.0     20.833334  0.0  0.0        0.0  1.08751   \n",
       "50  1.08772  21.0       3.0     87.500000  0.0  0.0        0.0  1.08757   \n",
       "51  1.08751  21.0      10.0     32.258064  0.0  0.0        0.0  1.08747   \n",
       "52  1.08757   9.0       2.0     81.818184  0.0  0.0        0.0  1.08766   \n",
       "53  1.08747  20.0       1.0      4.761905  1.0  0.0        0.0  1.08748   \n",
       "\n",
       "          ao     MA_20     MA_50         %K         %D    EMA_20    EMA_50  \\\n",
       "49 -0.000645  1.087979  1.088506   6.756757  11.323766  1.087984  1.088308   \n",
       "50 -0.000621  1.087952  1.088487  33.823528  18.365471  1.087959  1.088285   \n",
       "51 -0.000588  1.087914  1.088465  13.157895  17.912727  1.087916  1.088255   \n",
       "52 -0.000570  1.087875  1.088444  21.052631  22.678019  1.087883  1.088228   \n",
       "53 -0.000560  1.087834  1.088419   7.894737  14.035088  1.087844  1.088198   \n",
       "\n",
       "          rsi  target  \n",
       "49  30.361774     0.0  \n",
       "50  38.270931     0.0  \n",
       "51  33.491768     0.0  \n",
       "52  35.952702     1.0  \n",
       "53  33.713650     1.0  "
      ]
     },
     "execution_count": 80,
     "metadata": {},
     "output_type": "execute_result"
    }
   ],
   "source": [
    "main_df.head()"
   ]
  },
  {
   "cell_type": "code",
   "execution_count": 9,
   "id": "6d3fa84c-60f4-404f-9a45-241844d214d2",
   "metadata": {},
   "outputs": [],
   "source": [
    "def preprocess_df(df):\n",
    "    df = df.drop(\"future\", axis=1) \n",
    "    \n",
    "    from sklearn.preprocessing import MaxAbsScaler\n",
    "    scaler = MaxAbsScaler()\n",
    "    # from sklearn.preprocessing import PowerTransformer\n",
    "    indexes = df.index\n",
    "    df_scaled = scaler.fit_transform(df)\n",
    "    \n",
    "    df = pd.DataFrame(df_scaled,index = indexes)\n",
    "    \n",
    "    sequential_data = []  # this is a list that will CONTAIN the sequences\n",
    "    prev_days = deque(maxlen=SEQ_LEN)  # These will be our actual sequences. They are made with deque, which keeps the maximum length by popping out older values as new ones come in\n",
    "\n",
    "    for i in df.values:  # iterate over the values\n",
    "        prev_days.append([n for n in i[:-1]])  # store all but the target\n",
    "        if len(prev_days) == SEQ_LEN:  # make sure we have 60 sequences\n",
    "            sequential_data.append([np.array(prev_days), i[-1]]) \n",
    "\n",
    "    random.shuffle(sequential_data)  # shuffle for good measure.\n",
    "\n",
    "    buys = []  # list that will store our buy sequences and targets\n",
    "    sells = []  # list that will store our sell sequences and targets\n",
    "\n",
    "    for seq, target in sequential_data:  # iterate over the sequential data\n",
    "        if target == 0:  # if  put\n",
    "            sells.append([seq, target])  # append to sells list\n",
    "        elif target == 1:  # if call\n",
    "            buys.append([seq, target]) \n",
    "\n",
    "    random.shuffle(buys)  \n",
    "    random.shuffle(sells)  # shuffle \n",
    "\n",
    "    \n",
    "    lower = min(len(buys), len(sells))  \n",
    "\n",
    "    buys = buys[:lower]  \n",
    "    sells = sells[:lower]  \n",
    "    \n",
    "    \n",
    "    sequential_data = buys+sells  # add them together\n",
    "    random.shuffle(sequential_data)  # another shuffle\n",
    "\n",
    "    X = []\n",
    "    y = []\n",
    "\n",
    "    for seq, target in sequential_data:  \n",
    "        X.append(seq)  # X is the sequences\n",
    "        y.append(target)  # y is the targets\n",
    "\n",
    "    return np.array(X), y"
   ]
  },
  {
   "cell_type": "code",
   "execution_count": 82,
   "id": "f3e628a1-a4d1-4008-8191-96a584c07aa2",
   "metadata": {},
   "outputs": [],
   "source": [
    "train_x, train_y = preprocess_df(main_df)"
   ]
  },
  {
   "cell_type": "code",
   "execution_count": 83,
   "id": "723d5498-1919-4500-a513-d8fc41d9d30a",
   "metadata": {},
   "outputs": [],
   "source": [
    "# train_x[0]"
   ]
  },
  {
   "cell_type": "code",
   "execution_count": 84,
   "id": "d6df8a37-7996-4437-8e3a-33469b4a94eb",
   "metadata": {},
   "outputs": [
    {
     "data": {
      "text/plain": [
       "(86224, 8, 15)"
      ]
     },
     "execution_count": 84,
     "metadata": {},
     "output_type": "execute_result"
    }
   ],
   "source": [
    "train_x.shape"
   ]
  },
  {
   "cell_type": "code",
   "execution_count": 85,
   "id": "3368ea8d-aebc-4d43-8d3a-5f7b4b540c92",
   "metadata": {},
   "outputs": [],
   "source": [
    "validation_x, validation_y = preprocess_df(validation_main_df)"
   ]
  },
  {
   "cell_type": "code",
   "execution_count": 86,
   "id": "54c7bcc5-0709-4668-9a54-1c636da7a883",
   "metadata": {},
   "outputs": [
    {
     "name": "stdout",
     "output_type": "stream",
     "text": [
      "train data: 86224 validation: 9400\n",
      "sells: 43112, buys: 43112\n",
      "VALIDATION sells: 4700, buys : 4700\n"
     ]
    }
   ],
   "source": [
    "print(f\"train data: {len(train_x)} validation: {len(validation_x)}\")\n",
    "print(f\"sells: {train_y.count(0)}, buys: {train_y.count(1)}\")\n",
    "print(f\"VALIDATION sells: {validation_y.count(0)}, buys : {validation_y.count(1)}\")\n",
    "\n",
    "train_y = np.asarray(train_y)\n",
    "validation_y = np.asarray(validation_y)"
   ]
  },
  {
   "cell_type": "code",
   "execution_count": 3,
   "id": "cce4c4c6-00b3-4c49-a135-cef3af2edc28",
   "metadata": {},
   "outputs": [],
   "source": [
    "import tensorflow as tf\n",
    "from tensorflow.keras.models import Sequential\n",
    "from tensorflow.keras.layers import Dense, Dropout, LSTM, BatchNormalization\n",
    "from tensorflow.keras.callbacks import ModelCheckpoint\n",
    "from tensorflow.keras.callbacks import TensorBoard, EarlyStopping\n",
    "from tensorflow.keras.regularizers import l2\n",
    "import tensorflow_addons as tfa"
   ]
  },
  {
   "cell_type": "code",
   "execution_count": 4,
   "id": "37b4612b-cc68-4bce-916a-a3f0d4aa82cf",
   "metadata": {},
   "outputs": [],
   "source": [
    " def get_train( train_x, train_y,validation_x, validation_y):\n",
    "    LEARNING_RATE = 0.001 #isso mesmo\n",
    "    EPOCHS = 100  # how many passes through our data #20 was good\n",
    "    BATCH_SIZE = 16  # how many batches? Try smaller batch if you're getting OOM (out of memory) errors.\n",
    "    NAME = f\"{LEARNING_RATE}-{SEQ_LEN}-SEQ-{FUTURE_PERIOD_PREDICT}-{EPOCHS}-{BATCH_SIZE}-PRED-{int(time.time())}\"  # a unique name for the model\n",
    "    print(NAME)\n",
    "    \n",
    "    \n",
    "    try:\n",
    "      gpus = tf.config.experimental.list_physical_devices('GPU')\n",
    "      if gpus:\n",
    "        # Currently, memory growth needs to be the same across GPUs\n",
    "        for gpu in gpus:\n",
    "          tf.config.experimental.set_memory_growth(gpu, True)\n",
    "        logical_gpus = tf.config.experimental.list_logical_devices('GPU')\n",
    "        print(len(gpus), \"Physical GPUs,\", len(logical_gpus), \"Logical GPUs\")\n",
    "    except Exception as e:\n",
    "      # Memory growth must be set before GPUs have been initialized\n",
    "      print(e)\n",
    "    \n",
    "    earlyStoppingCallback = tf.keras.callbacks.EarlyStopping(monitor='loss', patience=3)\n",
    "    model = Sequential()\n",
    "    model.add(LSTM(128, kernel_regularizer=l2(0.01), input_shape=(train_x.shape[1:]), return_sequences=True))\n",
    "    model.add(Dropout(0.3))\n",
    "    model.add(BatchNormalization())  #normalizes activation outputs, same reason you want to normalize your input data.16670\n",
    "    \n",
    "    model.add(LSTM(128, kernel_regularizer=l2(0.01), activation='tanh', return_sequences=True))\n",
    "    model.add(Dropout(0.1))\n",
    "    model.add(BatchNormalization())\n",
    "    \n",
    "    model.add(LSTM(128))\n",
    "    model.add(Dropout(0.3))\n",
    "    model.add(BatchNormalization())\n",
    "    \n",
    "    model.add(Dense(32, activation='relu'))\n",
    "    model.add(Dropout(0.3))\n",
    "    \n",
    "    model.add(Dense(2, activation='softmax'))\n",
    "    \n",
    "    \n",
    "    opt = tf.keras.optimizers.Adam(lr=LEARNING_RATE, decay=5e-5)\n",
    "    \n",
    "    # Compile model\n",
    "    model.compile(\n",
    "        loss='sparse_categorical_crossentropy',\n",
    "        optimizer=opt,\n",
    "        metrics=['accuracy']\n",
    "    )\n",
    "    \n",
    "    tensorboard = TensorBoard(log_dir=\"logs/{}\".format(NAME))\n",
    "    \n",
    "    \n",
    "    checkpoint_filepath = \"models/{}.model\".format(filepath) # unique file name that will include the epoch and the validation acc for that epoch\n",
    "    checkpoint = tf.keras.callbacks.ModelCheckpoint(checkpoint_filepath, monitor='val_accuracy', verbose=1, save_best_only=True, mode='max') # saves only the best ones\n",
    "    \n",
    "    # Train model\n",
    "    history = model.fit(\n",
    "        train_x, train_y,\n",
    "        batch_size=BATCH_SIZE,\n",
    "        epochs=EPOCHS,\n",
    "        validation_data =(validation_x, validation_y),\n",
    "        callbacks=[tensorboard, checkpoint, earlyStoppingCallback],\n",
    "    )\n",
    "    return filepath"
   ]
  },
  {
   "cell_type": "code",
   "execution_count": 89,
   "id": "3481086f-ac89-485b-9192-be05d4e4bb3b",
   "metadata": {},
   "outputs": [
    {
     "name": "stdout",
     "output_type": "stream",
     "text": [
      "0.001-8-SEQ-2-100-16-PRED-1692528618\n",
      "1 Physical GPUs, 1 Logical GPUs\n",
      "Epoch 1/100\n",
      "5387/5389 [============================>.] - ETA: 0s - loss: 0.6722 - accuracy: 0.7440\n",
      "Epoch 1: val_accuracy improved from -inf to 0.74894, saving model to models\\LSTM-best.model\n"
     ]
    },
    {
     "name": "stderr",
     "output_type": "stream",
     "text": [
      "WARNING:absl:Found untraced functions such as lstm_cell_30_layer_call_fn, lstm_cell_30_layer_call_and_return_conditional_losses, lstm_cell_31_layer_call_fn, lstm_cell_31_layer_call_and_return_conditional_losses, lstm_cell_32_layer_call_fn while saving (showing 5 of 6). These functions will not be directly callable after loading.\n"
     ]
    },
    {
     "name": "stdout",
     "output_type": "stream",
     "text": [
      "INFO:tensorflow:Assets written to: models\\LSTM-best.model\\assets\n"
     ]
    },
    {
     "name": "stderr",
     "output_type": "stream",
     "text": [
      "INFO:tensorflow:Assets written to: models\\LSTM-best.model\\assets\n"
     ]
    },
    {
     "name": "stdout",
     "output_type": "stream",
     "text": [
      "5389/5389 [==============================] - 77s 14ms/step - loss: 0.6722 - accuracy: 0.7441 - val_loss: 0.5224 - val_accuracy: 0.7489\n",
      "Epoch 2/100\n",
      "5386/5389 [============================>.] - ETA: 0s - loss: 0.5074 - accuracy: 0.7760\n",
      "Epoch 2: val_accuracy improved from 0.74894 to 0.78489, saving model to models\\LSTM-best.model\n"
     ]
    },
    {
     "name": "stderr",
     "output_type": "stream",
     "text": [
      "WARNING:absl:Found untraced functions such as lstm_cell_30_layer_call_fn, lstm_cell_30_layer_call_and_return_conditional_losses, lstm_cell_31_layer_call_fn, lstm_cell_31_layer_call_and_return_conditional_losses, lstm_cell_32_layer_call_fn while saving (showing 5 of 6). These functions will not be directly callable after loading.\n"
     ]
    },
    {
     "name": "stdout",
     "output_type": "stream",
     "text": [
      "INFO:tensorflow:Assets written to: models\\LSTM-best.model\\assets\n"
     ]
    },
    {
     "name": "stderr",
     "output_type": "stream",
     "text": [
      "INFO:tensorflow:Assets written to: models\\LSTM-best.model\\assets\n"
     ]
    },
    {
     "name": "stdout",
     "output_type": "stream",
     "text": [
      "5389/5389 [==============================] - 72s 13ms/step - loss: 0.5074 - accuracy: 0.7760 - val_loss: 0.4845 - val_accuracy: 0.7849\n",
      "Epoch 3/100\n",
      "5388/5389 [============================>.] - ETA: 0s - loss: 0.4970 - accuracy: 0.7798\n",
      "Epoch 3: val_accuracy improved from 0.78489 to 0.78798, saving model to models\\LSTM-best.model\n"
     ]
    },
    {
     "name": "stderr",
     "output_type": "stream",
     "text": [
      "WARNING:absl:Found untraced functions such as lstm_cell_30_layer_call_fn, lstm_cell_30_layer_call_and_return_conditional_losses, lstm_cell_31_layer_call_fn, lstm_cell_31_layer_call_and_return_conditional_losses, lstm_cell_32_layer_call_fn while saving (showing 5 of 6). These functions will not be directly callable after loading.\n"
     ]
    },
    {
     "name": "stdout",
     "output_type": "stream",
     "text": [
      "INFO:tensorflow:Assets written to: models\\LSTM-best.model\\assets\n"
     ]
    },
    {
     "name": "stderr",
     "output_type": "stream",
     "text": [
      "INFO:tensorflow:Assets written to: models\\LSTM-best.model\\assets\n"
     ]
    },
    {
     "name": "stdout",
     "output_type": "stream",
     "text": [
      "5389/5389 [==============================] - 73s 13ms/step - loss: 0.4970 - accuracy: 0.7798 - val_loss: 0.4769 - val_accuracy: 0.7880\n",
      "Epoch 4/100\n",
      "5386/5389 [============================>.] - ETA: 0s - loss: 0.4900 - accuracy: 0.7831\n",
      "Epoch 4: val_accuracy did not improve from 0.78798\n",
      "5389/5389 [==============================] - 62s 12ms/step - loss: 0.4900 - accuracy: 0.7831 - val_loss: 0.4791 - val_accuracy: 0.7806\n",
      "Epoch 5/100\n",
      "5385/5389 [============================>.] - ETA: 0s - loss: 0.4831 - accuracy: 0.7838\n",
      "Epoch 5: val_accuracy improved from 0.78798 to 0.79043, saving model to models\\LSTM-best.model\n"
     ]
    },
    {
     "name": "stderr",
     "output_type": "stream",
     "text": [
      "WARNING:absl:Found untraced functions such as lstm_cell_30_layer_call_fn, lstm_cell_30_layer_call_and_return_conditional_losses, lstm_cell_31_layer_call_fn, lstm_cell_31_layer_call_and_return_conditional_losses, lstm_cell_32_layer_call_fn while saving (showing 5 of 6). These functions will not be directly callable after loading.\n"
     ]
    },
    {
     "name": "stdout",
     "output_type": "stream",
     "text": [
      "INFO:tensorflow:Assets written to: models\\LSTM-best.model\\assets\n"
     ]
    },
    {
     "name": "stderr",
     "output_type": "stream",
     "text": [
      "INFO:tensorflow:Assets written to: models\\LSTM-best.model\\assets\n"
     ]
    },
    {
     "name": "stdout",
     "output_type": "stream",
     "text": [
      "5389/5389 [==============================] - 72s 13ms/step - loss: 0.4831 - accuracy: 0.7838 - val_loss: 0.4694 - val_accuracy: 0.7904\n",
      "Epoch 6/100\n",
      "5388/5389 [============================>.] - ETA: 0s - loss: 0.4831 - accuracy: 0.7853\n",
      "Epoch 6: val_accuracy did not improve from 0.79043\n",
      "5389/5389 [==============================] - 58s 11ms/step - loss: 0.4831 - accuracy: 0.7853 - val_loss: 0.4678 - val_accuracy: 0.7890\n",
      "Epoch 7/100\n",
      "5387/5389 [============================>.] - ETA: 0s - loss: 0.4804 - accuracy: 0.7860\n",
      "Epoch 7: val_accuracy did not improve from 0.79043\n",
      "5389/5389 [==============================] - 57s 11ms/step - loss: 0.4804 - accuracy: 0.7860 - val_loss: 0.4700 - val_accuracy: 0.7887\n",
      "Epoch 8/100\n",
      "5388/5389 [============================>.] - ETA: 0s - loss: 0.4765 - accuracy: 0.7869\n",
      "Epoch 8: val_accuracy did not improve from 0.79043\n",
      "5389/5389 [==============================] - 57s 11ms/step - loss: 0.4765 - accuracy: 0.7869 - val_loss: 0.4746 - val_accuracy: 0.7876\n",
      "Epoch 9/100\n",
      "5388/5389 [============================>.] - ETA: 0s - loss: 0.4741 - accuracy: 0.7881\n",
      "Epoch 9: val_accuracy did not improve from 0.79043\n",
      "5389/5389 [==============================] - 60s 11ms/step - loss: 0.4740 - accuracy: 0.7881 - val_loss: 0.4652 - val_accuracy: 0.7900\n",
      "Epoch 10/100\n",
      "5388/5389 [============================>.] - ETA: 0s - loss: 0.4729 - accuracy: 0.7886\n",
      "Epoch 10: val_accuracy did not improve from 0.79043\n",
      "5389/5389 [==============================] - 62s 12ms/step - loss: 0.4729 - accuracy: 0.7886 - val_loss: 0.4635 - val_accuracy: 0.7904\n",
      "Epoch 11/100\n",
      "5386/5389 [============================>.] - ETA: 0s - loss: 0.4728 - accuracy: 0.7886\n",
      "Epoch 11: val_accuracy improved from 0.79043 to 0.79106, saving model to models\\LSTM-best.model\n"
     ]
    },
    {
     "name": "stderr",
     "output_type": "stream",
     "text": [
      "WARNING:absl:Found untraced functions such as lstm_cell_30_layer_call_fn, lstm_cell_30_layer_call_and_return_conditional_losses, lstm_cell_31_layer_call_fn, lstm_cell_31_layer_call_and_return_conditional_losses, lstm_cell_32_layer_call_fn while saving (showing 5 of 6). These functions will not be directly callable after loading.\n"
     ]
    },
    {
     "name": "stdout",
     "output_type": "stream",
     "text": [
      "INFO:tensorflow:Assets written to: models\\LSTM-best.model\\assets\n"
     ]
    },
    {
     "name": "stderr",
     "output_type": "stream",
     "text": [
      "INFO:tensorflow:Assets written to: models\\LSTM-best.model\\assets\n"
     ]
    },
    {
     "name": "stdout",
     "output_type": "stream",
     "text": [
      "5389/5389 [==============================] - 73s 14ms/step - loss: 0.4728 - accuracy: 0.7886 - val_loss: 0.4624 - val_accuracy: 0.7911\n",
      "Epoch 12/100\n",
      "5389/5389 [==============================] - ETA: 0s - loss: 0.4723 - accuracy: 0.7884\n",
      "Epoch 12: val_accuracy did not improve from 0.79106\n",
      "5389/5389 [==============================] - 60s 11ms/step - loss: 0.4723 - accuracy: 0.7884 - val_loss: 0.4613 - val_accuracy: 0.7905\n",
      "Epoch 13/100\n",
      "5387/5389 [============================>.] - ETA: 0s - loss: 0.4701 - accuracy: 0.7893\n",
      "Epoch 13: val_accuracy did not improve from 0.79106\n",
      "5389/5389 [==============================] - 59s 11ms/step - loss: 0.4701 - accuracy: 0.7892 - val_loss: 0.4611 - val_accuracy: 0.7894\n",
      "Epoch 14/100\n",
      "5385/5389 [============================>.] - ETA: 0s - loss: 0.4700 - accuracy: 0.7885\n",
      "Epoch 14: val_accuracy did not improve from 0.79106\n",
      "5389/5389 [==============================] - 64s 12ms/step - loss: 0.4699 - accuracy: 0.7886 - val_loss: 0.4593 - val_accuracy: 0.7907\n",
      "Epoch 15/100\n",
      "5387/5389 [============================>.] - ETA: 0s - loss: 0.4671 - accuracy: 0.7897\n",
      "Epoch 15: val_accuracy did not improve from 0.79106\n",
      "5389/5389 [==============================] - 62s 12ms/step - loss: 0.4671 - accuracy: 0.7897 - val_loss: 0.4599 - val_accuracy: 0.7910\n",
      "Epoch 16/100\n",
      "5389/5389 [==============================] - ETA: 0s - loss: 0.4687 - accuracy: 0.7892\n",
      "Epoch 16: val_accuracy did not improve from 0.79106\n",
      "5389/5389 [==============================] - 63s 12ms/step - loss: 0.4687 - accuracy: 0.7892 - val_loss: 0.4596 - val_accuracy: 0.7902\n",
      "Epoch 17/100\n",
      "5389/5389 [==============================] - ETA: 0s - loss: 0.4667 - accuracy: 0.7899\n",
      "Epoch 17: val_accuracy improved from 0.79106 to 0.79160, saving model to models\\LSTM-best.model\n"
     ]
    },
    {
     "name": "stderr",
     "output_type": "stream",
     "text": [
      "WARNING:absl:Found untraced functions such as lstm_cell_30_layer_call_fn, lstm_cell_30_layer_call_and_return_conditional_losses, lstm_cell_31_layer_call_fn, lstm_cell_31_layer_call_and_return_conditional_losses, lstm_cell_32_layer_call_fn while saving (showing 5 of 6). These functions will not be directly callable after loading.\n"
     ]
    },
    {
     "name": "stdout",
     "output_type": "stream",
     "text": [
      "INFO:tensorflow:Assets written to: models\\LSTM-best.model\\assets\n"
     ]
    },
    {
     "name": "stderr",
     "output_type": "stream",
     "text": [
      "INFO:tensorflow:Assets written to: models\\LSTM-best.model\\assets\n"
     ]
    },
    {
     "name": "stdout",
     "output_type": "stream",
     "text": [
      "5389/5389 [==============================] - 73s 14ms/step - loss: 0.4667 - accuracy: 0.7899 - val_loss: 0.4572 - val_accuracy: 0.7916\n",
      "Epoch 18/100\n",
      "5387/5389 [============================>.] - ETA: 0s - loss: 0.4662 - accuracy: 0.7904\n",
      "Epoch 18: val_accuracy improved from 0.79160 to 0.79245, saving model to models\\LSTM-best.model\n"
     ]
    },
    {
     "name": "stderr",
     "output_type": "stream",
     "text": [
      "WARNING:absl:Found untraced functions such as lstm_cell_30_layer_call_fn, lstm_cell_30_layer_call_and_return_conditional_losses, lstm_cell_31_layer_call_fn, lstm_cell_31_layer_call_and_return_conditional_losses, lstm_cell_32_layer_call_fn while saving (showing 5 of 6). These functions will not be directly callable after loading.\n"
     ]
    },
    {
     "name": "stdout",
     "output_type": "stream",
     "text": [
      "INFO:tensorflow:Assets written to: models\\LSTM-best.model\\assets\n"
     ]
    },
    {
     "name": "stderr",
     "output_type": "stream",
     "text": [
      "INFO:tensorflow:Assets written to: models\\LSTM-best.model\\assets\n"
     ]
    },
    {
     "name": "stdout",
     "output_type": "stream",
     "text": [
      "5389/5389 [==============================] - 72s 13ms/step - loss: 0.4662 - accuracy: 0.7904 - val_loss: 0.4568 - val_accuracy: 0.7924\n",
      "Epoch 19/100\n",
      "5387/5389 [============================>.] - ETA: 0s - loss: 0.4658 - accuracy: 0.7904\n",
      "Epoch 19: val_accuracy did not improve from 0.79245\n",
      "5389/5389 [==============================] - 61s 11ms/step - loss: 0.4657 - accuracy: 0.7905 - val_loss: 0.4567 - val_accuracy: 0.7922\n",
      "Epoch 20/100\n",
      "5388/5389 [============================>.] - ETA: 0s - loss: 0.4669 - accuracy: 0.7901\n",
      "Epoch 20: val_accuracy did not improve from 0.79245\n",
      "5389/5389 [==============================] - 63s 12ms/step - loss: 0.4669 - accuracy: 0.7900 - val_loss: 0.4564 - val_accuracy: 0.7911\n",
      "Epoch 21/100\n",
      "5386/5389 [============================>.] - ETA: 0s - loss: 0.4641 - accuracy: 0.7904\n",
      "Epoch 21: val_accuracy did not improve from 0.79245\n",
      "5389/5389 [==============================] - 63s 12ms/step - loss: 0.4641 - accuracy: 0.7904 - val_loss: 0.4563 - val_accuracy: 0.7906\n",
      "Epoch 22/100\n",
      "5387/5389 [============================>.] - ETA: 0s - loss: 0.4641 - accuracy: 0.7910\n",
      "Epoch 22: val_accuracy did not improve from 0.79245\n",
      "5389/5389 [==============================] - 59s 11ms/step - loss: 0.4641 - accuracy: 0.7910 - val_loss: 0.4555 - val_accuracy: 0.7923\n",
      "Epoch 23/100\n",
      "5387/5389 [============================>.] - ETA: 0s - loss: 0.4635 - accuracy: 0.7906\n",
      "Epoch 23: val_accuracy did not improve from 0.79245\n",
      "5389/5389 [==============================] - 62s 12ms/step - loss: 0.4635 - accuracy: 0.7906 - val_loss: 0.4587 - val_accuracy: 0.7919\n",
      "Epoch 24/100\n",
      "5388/5389 [============================>.] - ETA: 0s - loss: 0.4638 - accuracy: 0.7912\n",
      "Epoch 24: val_accuracy did not improve from 0.79245\n",
      "5389/5389 [==============================] - 62s 12ms/step - loss: 0.4638 - accuracy: 0.7913 - val_loss: 0.4550 - val_accuracy: 0.7920\n",
      "Epoch 25/100\n",
      "5386/5389 [============================>.] - ETA: 0s - loss: 0.4636 - accuracy: 0.7911\n",
      "Epoch 25: val_accuracy did not improve from 0.79245\n",
      "5389/5389 [==============================] - 61s 11ms/step - loss: 0.4635 - accuracy: 0.7911 - val_loss: 0.4548 - val_accuracy: 0.7913\n",
      "Epoch 26/100\n",
      "5388/5389 [============================>.] - ETA: 0s - loss: 0.4620 - accuracy: 0.7912\n",
      "Epoch 26: val_accuracy improved from 0.79245 to 0.79255, saving model to models\\LSTM-best.model\n"
     ]
    },
    {
     "name": "stderr",
     "output_type": "stream",
     "text": [
      "WARNING:absl:Found untraced functions such as lstm_cell_30_layer_call_fn, lstm_cell_30_layer_call_and_return_conditional_losses, lstm_cell_31_layer_call_fn, lstm_cell_31_layer_call_and_return_conditional_losses, lstm_cell_32_layer_call_fn while saving (showing 5 of 6). These functions will not be directly callable after loading.\n"
     ]
    },
    {
     "name": "stdout",
     "output_type": "stream",
     "text": [
      "INFO:tensorflow:Assets written to: models\\LSTM-best.model\\assets\n"
     ]
    },
    {
     "name": "stderr",
     "output_type": "stream",
     "text": [
      "INFO:tensorflow:Assets written to: models\\LSTM-best.model\\assets\n"
     ]
    },
    {
     "name": "stdout",
     "output_type": "stream",
     "text": [
      "5389/5389 [==============================] - 73s 13ms/step - loss: 0.4620 - accuracy: 0.7912 - val_loss: 0.4542 - val_accuracy: 0.7926\n",
      "Epoch 27/100\n",
      "5388/5389 [============================>.] - ETA: 0s - loss: 0.4632 - accuracy: 0.7912\n",
      "Epoch 27: val_accuracy did not improve from 0.79255\n",
      "5389/5389 [==============================] - 58s 11ms/step - loss: 0.4631 - accuracy: 0.7912 - val_loss: 0.4557 - val_accuracy: 0.7920\n",
      "Epoch 28/100\n",
      "5385/5389 [============================>.] - ETA: 0s - loss: 0.4632 - accuracy: 0.7906\n",
      "Epoch 28: val_accuracy did not improve from 0.79255\n",
      "5389/5389 [==============================] - 59s 11ms/step - loss: 0.4632 - accuracy: 0.7906 - val_loss: 0.4550 - val_accuracy: 0.7920\n",
      "Epoch 29/100\n",
      "5388/5389 [============================>.] - ETA: 0s - loss: 0.4625 - accuracy: 0.7907\n",
      "Epoch 29: val_accuracy did not improve from 0.79255\n",
      "5389/5389 [==============================] - 59s 11ms/step - loss: 0.4625 - accuracy: 0.7907 - val_loss: 0.4546 - val_accuracy: 0.7921\n"
     ]
    },
    {
     "data": {
      "text/plain": [
       "'LSTM-best'"
      ]
     },
     "execution_count": 89,
     "metadata": {},
     "output_type": "execute_result"
    }
   ],
   "source": [
    "get_train( train_x, train_y,validation_x, validation_y)"
   ]
  },
  {
   "cell_type": "code",
   "execution_count": 4,
   "id": "99976e94-91d2-4707-b74a-ec85c2f4969a",
   "metadata": {},
   "outputs": [],
   "source": [
    "model = tf.keras.models.load_model('models/LSTM-best.model')"
   ]
  },
  {
   "cell_type": "code",
   "execution_count": 115,
   "id": "1680421c-3d7b-4e18-87b7-83434f702b24",
   "metadata": {},
   "outputs": [
    {
     "name": "stdout",
     "output_type": "stream",
     "text": [
      "294/294 [==============================] - 1s 5ms/step\n"
     ]
    }
   ],
   "source": [
    "from sklearn.metrics import accuracy_score\n",
    "prediction = pd.DataFrame(model.predict(validation_x))"
   ]
  },
  {
   "cell_type": "code",
   "execution_count": 116,
   "id": "a23c1537-f79c-493b-96e8-f52d6f405911",
   "metadata": {},
   "outputs": [
    {
     "data": {
      "text/html": [
       "<div>\n",
       "<style scoped>\n",
       "    .dataframe tbody tr th:only-of-type {\n",
       "        vertical-align: middle;\n",
       "    }\n",
       "\n",
       "    .dataframe tbody tr th {\n",
       "        vertical-align: top;\n",
       "    }\n",
       "\n",
       "    .dataframe thead th {\n",
       "        text-align: right;\n",
       "    }\n",
       "</style>\n",
       "<table border=\"1\" class=\"dataframe\">\n",
       "  <thead>\n",
       "    <tr style=\"text-align: right;\">\n",
       "      <th></th>\n",
       "      <th>0</th>\n",
       "      <th>1</th>\n",
       "    </tr>\n",
       "  </thead>\n",
       "  <tbody>\n",
       "    <tr>\n",
       "      <th>0</th>\n",
       "      <td>0.236793</td>\n",
       "      <td>0.763207</td>\n",
       "    </tr>\n",
       "    <tr>\n",
       "      <th>1</th>\n",
       "      <td>0.490024</td>\n",
       "      <td>0.509976</td>\n",
       "    </tr>\n",
       "    <tr>\n",
       "      <th>2</th>\n",
       "      <td>0.023323</td>\n",
       "      <td>0.976678</td>\n",
       "    </tr>\n",
       "    <tr>\n",
       "      <th>3</th>\n",
       "      <td>0.044244</td>\n",
       "      <td>0.955756</td>\n",
       "    </tr>\n",
       "    <tr>\n",
       "      <th>4</th>\n",
       "      <td>0.758350</td>\n",
       "      <td>0.241650</td>\n",
       "    </tr>\n",
       "    <tr>\n",
       "      <th>...</th>\n",
       "      <td>...</td>\n",
       "      <td>...</td>\n",
       "    </tr>\n",
       "    <tr>\n",
       "      <th>9395</th>\n",
       "      <td>0.302875</td>\n",
       "      <td>0.697125</td>\n",
       "    </tr>\n",
       "    <tr>\n",
       "      <th>9396</th>\n",
       "      <td>0.261784</td>\n",
       "      <td>0.738216</td>\n",
       "    </tr>\n",
       "    <tr>\n",
       "      <th>9397</th>\n",
       "      <td>0.837968</td>\n",
       "      <td>0.162032</td>\n",
       "    </tr>\n",
       "    <tr>\n",
       "      <th>9398</th>\n",
       "      <td>0.782469</td>\n",
       "      <td>0.217531</td>\n",
       "    </tr>\n",
       "    <tr>\n",
       "      <th>9399</th>\n",
       "      <td>0.159755</td>\n",
       "      <td>0.840245</td>\n",
       "    </tr>\n",
       "  </tbody>\n",
       "</table>\n",
       "<p>9400 rows × 2 columns</p>\n",
       "</div>"
      ],
      "text/plain": [
       "             0         1\n",
       "0     0.236793  0.763207\n",
       "1     0.490024  0.509976\n",
       "2     0.023323  0.976678\n",
       "3     0.044244  0.955756\n",
       "4     0.758350  0.241650\n",
       "...        ...       ...\n",
       "9395  0.302875  0.697125\n",
       "9396  0.261784  0.738216\n",
       "9397  0.837968  0.162032\n",
       "9398  0.782469  0.217531\n",
       "9399  0.159755  0.840245\n",
       "\n",
       "[9400 rows x 2 columns]"
      ]
     },
     "execution_count": 116,
     "metadata": {},
     "output_type": "execute_result"
    }
   ],
   "source": [
    "prediction"
   ]
  },
  {
   "cell_type": "code",
   "execution_count": 117,
   "id": "7a132eb8-8061-43b5-b221-8010e4d5dc3b",
   "metadata": {},
   "outputs": [],
   "source": [
    "m = np.zeros_like(prediction.values)\n",
    "m[np.arange(len(prediction)), prediction.values.argmax(1)] = 1\n",
    "\n",
    "prediction = pd.DataFrame(m, columns = prediction.columns).astype(int)\n",
    "prediction = prediction.drop(columns = {0})"
   ]
  },
  {
   "cell_type": "code",
   "execution_count": 118,
   "id": "c23323d7-62f5-43bb-8eb5-43520e969474",
   "metadata": {},
   "outputs": [],
   "source": [
    "high_acurate = prediction.loc[prediction[1] > 0.55]"
   ]
  },
  {
   "cell_type": "code",
   "execution_count": 119,
   "id": "fb82de4a-3bd7-4fd0-ae62-f4e4097b5612",
   "metadata": {},
   "outputs": [],
   "source": [
    "high_index = high_acurate.index\n",
    "validation_y_used = pd.DataFrame(validation_y) # TRANSFORM NUMPY TO DATAFRAM\n",
    "prediction_compare  = validation_y_used.loc[high_index] #LOCATES THE INDEX THAT HAVE BEEN SEPARATED\n",
    "prediction_compare[0].value_counts() # SHOW THE VALUES. AS WE CHOOSE 0 IN THE OTHER THE 0 MUST HAVE A BIGGER PROB\n",
    "len(prediction)\n",
    "\n",
    "acc = accuracy_score(validation_y,prediction)"
   ]
  },
  {
   "cell_type": "code",
   "execution_count": 120,
   "id": "05fcfe54-ea44-4080-bc42-4821cfff65d5",
   "metadata": {},
   "outputs": [
    {
     "data": {
      "text/plain": [
       "0.7925531914893617"
      ]
     },
     "execution_count": 120,
     "metadata": {},
     "output_type": "execute_result"
    }
   ],
   "source": [
    "acc"
   ]
  },
  {
   "cell_type": "code",
   "execution_count": 139,
   "id": "dadc7cb9-8d3b-4581-a53d-0ccbe902b01c",
   "metadata": {},
   "outputs": [
    {
     "name": "stdout",
     "output_type": "stream",
     "text": [
      "294/294 [==============================] - 1s 5ms/step\n",
      "9400\n"
     ]
    }
   ],
   "source": [
    "from sklearn.metrics import accuracy_score\n",
    "prediction = pd.DataFrame(model.predict(validation_x))\n",
    "\n",
    "m = np.zeros_like(prediction.values)\n",
    "m[np.arange(len(prediction)), prediction.values.argmax(1)] = 1\n",
    "\n",
    "prediction = pd.DataFrame(m, columns = prediction.columns).astype(int)\n",
    "prediction = prediction.drop(columns = {0})\n",
    "validation_y = pd.DataFrame(validation_y)\n",
    "print(len(validation_y))\n",
    "high_acurate = prediction.loc[prediction[1] > 0.55] #VALUES THAT HE PRESENTED OR PROBABLY GREATER THAN 0.55\n",
    "\n",
    "high_index = high_acurate.index     # GET THE INDEX OF THOSE WHO HAD PROB ABOVE THE SPECIFIED\n",
    "\n",
    "validation_y_used = pd.DataFrame(validation_y) # TRANSFORM NUMPY TO DATAFRAM\n",
    "prediction_compare  = validation_y_used.loc[high_index] #LOCATES THE INDEX THAT HAVE BEEN SEPARATED\n",
    "prediction_compare[0].value_counts() # SHOW THE VALUES. AS WE CHOOSE 0 IN THE OTHER THE 0 MUST HAVE A BIGGER PROB\n",
    "len(prediction)\n",
    "\n",
    "acc = accuracy_score(validation_y,prediction)"
   ]
  },
  {
   "cell_type": "code",
   "execution_count": 140,
   "id": "274c526c-0a3b-48be-a4a7-dec446f86cf8",
   "metadata": {},
   "outputs": [
    {
     "data": {
      "text/plain": [
       "0.7925531914893617"
      ]
     },
     "execution_count": 140,
     "metadata": {},
     "output_type": "execute_result"
    }
   ],
   "source": [
    "acc"
   ]
  },
  {
   "cell_type": "code",
   "execution_count": 94,
   "id": "a70984d5-f5b9-4d15-8921-33b96fc9b628",
   "metadata": {},
   "outputs": [
    {
     "name": "stdout",
     "output_type": "stream",
     "text": [
      "294/294 [==============================] - 2s 5ms/step\n"
     ]
    },
    {
     "data": {
      "text/plain": [
       "0.7883808724832215"
      ]
     },
     "execution_count": 94,
     "metadata": {},
     "output_type": "execute_result"
    }
   ],
   "source": [
    "p = pd.DataFrame(model.predict(validation_x))\n",
    "m = np.zeros_like(p.values)\n",
    "m[np.arange(len(p)), p.values.argmax(1)]=1\n",
    "p= pd.DataFrame(m, columns = p.columns).astype(int)\n",
    "pp = p.drop(columns = {0})\n",
    "ccc = p.drop(columns = {1})\n",
    "h = pp.loc[pp[1] > 0.75]\n",
    "c = ccc.loc[ccc[0] > 0.75]\n",
    "v = validation_y_used.loc[h.index]\n",
    "cc = validation_y_used.loc[c.index]\n",
    "accuracy_score(v,pp.loc[h.index])#,accuracy_score(cc,p.loc[c.index])\n",
    "# p.head()"
   ]
  },
  {
   "cell_type": "code",
   "execution_count": 5,
   "id": "5b6e7a75-de91-4868-bb2f-70777d5841ad",
   "metadata": {},
   "outputs": [],
   "source": [
    "head = ['HK Time', 'Open', 'High', 'Low', 'Close', 'Volume']\n",
    "data_2017 = pd.read_csv(\"OUT_DAT_ASCII_AUDJPY_M1_2017.csv\", delimiter=\";\", \n",
    "                        names=head)\n",
    "data_2018 = pd.read_csv(\"OUT_DAT_ASCII_AUDJPY_M1_2018.csv\", delimiter=\";\",\n",
    "                        names=head)\n",
    "data_2019 = pd.read_csv(\"OUT_DAT_ASCII_AUDJPY_M1_201901.csv\", delimiter=\";\",\n",
    "                        names=head)"
   ]
  },
  {
   "cell_type": "code",
   "execution_count": 6,
   "id": "f33ab32c-8a37-4c96-87fc-fd23cfd7fb21",
   "metadata": {},
   "outputs": [],
   "source": [
    "def data_preprcessing(df):\n",
    "    def bionic_pullback(row):\n",
    "        '''\n",
    "        0-5%: excellent strong candle close.\n",
    "        5-10%: very strong candle close.\n",
    "        10-20%: strong candle close.\n",
    "        20-25%: good candle close.\n",
    "        25-30%: ok candle close.\n",
    "        30-35%: doubtful candle close.\n",
    "        35-50% indecisive candle close.\n",
    "        50-67%: weak candle close.\n",
    "        67-100% very weak / reversal candle close.\n",
    "\n",
    "\n",
    "        for wicks and pullback:-\n",
    "        The best breakouts have candles which close near the top 20% of the candle size.\n",
    "        They work ok with wicks between 20 and 30%.\n",
    "        Risky between 30 and 40%.\n",
    "        Turn easier into false breaks out above 40%.\n",
    "        Can lead into reversals more often above 67%.\n",
    "        '''\n",
    "        candles_size_ratio=0\n",
    "        if row.Candles == 1:\n",
    "            body=(row.High-row.Close)\n",
    "            pullback=(row.Close-row.Low)\n",
    "            candles_size_ratio=(row.Close-row.Low)/(row.High-row.Low)\n",
    "        elif row.Candles == 2:\n",
    "            body=(row.Close-row.Low)\n",
    "            pullback=(row.High-row.Close)\n",
    "            candles_size_ratio=(row.Close-row.Low)/(row.High-row.Low)\n",
    "        else:\n",
    "            body=0\n",
    "            pullback=0\n",
    "        return (round(body,5)*100000,round(pullback,5)*100000,candles_size_ratio*100)\n",
    "    def finding_candles_patterns(df):\n",
    "        conditions=[\n",
    "            df['Close']>df['Open'],\n",
    "            df['Close']<df['Open'],\n",
    "            df['Close']==df['Open']\n",
    "        ]\n",
    "        values=[2,1,0]#2 for up and 1 for down and 0 for doji pattern\n",
    "        df['Candles'] = np.select(conditions, values)\n",
    "        # candles_lst=df['Candles'].values.tolist()\n",
    "        # result=containsPattern(candles_lst,3)\n",
    "        # display(df)\n",
    "        # print(candles_lst)\n",
    "        return df\n",
    "    df=finding_candles_patterns(df)\n",
    "    df[[\"Body\",\"Pullback\",\"Candle_Ratio\"]] = df.apply(lambda x: bionic_pullback(x), axis=1, result_type=\"expand\")\n",
    "    indexes = df.index\n",
    "    df=df[['Open', 'High', 'Low', 'Close','Body', 'Pullback', 'Candle_Ratio']]\n",
    "    FUTURE_PERIOD_PREDICT = 2\n",
    "    SEQ_LEN = 8\n",
    "    n = 3\n",
    "    from scipy.signal import argrelextrema\n",
    "    df['min'] = df.iloc[argrelextrema(df.Close.values, np.less_equal,\n",
    "                        order=n)[0]]['Close']\n",
    "    df['max'] = df.iloc[argrelextrema(df.Close.values, np.greater_equal,\n",
    "                        order=n)[0]]['Close']\n",
    "    \n",
    "    df['min'].loc[~df['min'].isnull()] = 1  # not nan\n",
    "    df['min'].loc[df['min'].isnull()] = 0  # nan\n",
    "    df['max'].loc[~df['max'].isnull()] = 1  # not nan\n",
    "    df['max'].loc[df['max'].isnull()] = 0  # nan\n",
    "    \n",
    "    one_hot_data=np.array(df[['min','max']].values.tolist())\n",
    "    df['label_snr']=np.argmax(one_hot_data, axis=1)\n",
    "    \n",
    "    FUTURE_PERIOD_PREDICT = 2\n",
    "    SEQ_LEN = 8\n",
    "    \n",
    "    df['future'] = df[\"Close\"].shift(-FUTURE_PERIOD_PREDICT)\n",
    "    \n",
    "    def classify(current,future):\n",
    "        if float(future) > float(current):\n",
    "            return 1\n",
    "        else:\n",
    "            return 0\n",
    "    def sma(price, period):\n",
    "        sma = price.rolling(period).mean()\n",
    "        return sma\n",
    "\n",
    "    def ao(price, period1, period2):\n",
    "        median = price.rolling(2).median()\n",
    "        short = sma(median, period1)\n",
    "        long = sma(median, period2)\n",
    "        ao = short - long\n",
    "        ao_df = pd.DataFrame(ao).rename(columns = {'Close':'ao'})\n",
    "        return ao_df\n",
    "\n",
    "    df['ao'] = ao(df['Close'], 5, 34)\n",
    "    \n",
    "    df['MA_20'] = df['Close'].rolling(window = 20).mean() #moving average 20\n",
    "    df['MA_50'] = df['Close'].rolling(window = 50).mean() #moving average 50\n",
    "\n",
    "\n",
    "    df['L14'] = df['Low'].rolling(window=14).min()\n",
    "    df['H14'] = df['High'].rolling(window=14).max()\n",
    "    df['%K'] = 100*((df['Close'] - df['L14']) / (df['H14'] - df['L14']) ) #stochastic oscilator\n",
    "    df['%D'] = df['%K'].rolling(window=3).mean()\n",
    "\n",
    "    df['EMA_20'] = df['Close'].ewm(span = 20, adjust = False).mean() #exponential moving average\n",
    "    df['EMA_50'] = df['Close'].ewm(span = 50, adjust = False).mean()\n",
    "\n",
    "    rsi_period = 14 \n",
    "    chg = df['Close'].diff(1)\n",
    "    gain = chg.mask(chg<0,0)\n",
    "    df['gain'] = gain\n",
    "    loss = chg.mask(chg>0,0)\n",
    "    df['loss'] = loss\n",
    "    avg_gain = gain.ewm(com = rsi_period - 1, min_periods = rsi_period).mean()\n",
    "    avg_loss = loss.ewm(com = rsi_period - 1, min_periods = rsi_period).mean()\n",
    "\n",
    "    df['avg_gain'] = avg_gain\n",
    "    df['avg_loss'] = avg_loss\n",
    "    rs = abs(avg_gain/avg_loss)\n",
    "    df['rsi'] = 100-(100/(1+rs)) #rsi index\n",
    "\n",
    "    df = df.drop(columns = {'Open','Low','High','avg_gain','avg_loss','L14','H14','gain','loss'}) #drop columns that are too correlated or are in somehow inside others\n",
    "\n",
    "    df = df.dropna()\n",
    "    dataset = df.fillna(method=\"ffill\")\n",
    "    dataset = dataset.dropna()\n",
    "\n",
    "    dataset.sort_index(inplace = True)\n",
    "\n",
    "    main_df = dataset\n",
    "\n",
    "    main_df.fillna(method=\"ffill\", inplace=True)  # if there are gaps in data, use previously known values\n",
    "    main_df.dropna(inplace=True)\n",
    "\n",
    "    main_df['target'] = list(map(classify, main_df['Close'], main_df['future']))\n",
    "\n",
    "    main_df.dropna(inplace=True)\n",
    "\n",
    "    main_df['target'].value_counts()\n",
    "\n",
    "    main_df.dropna(inplace=True)\n",
    "\n",
    "    main_df = main_df.astype('float32')\n",
    "\n",
    "    times = sorted(main_df.index.values)\n",
    "    last_5pct = sorted(main_df.index.values)[-int(0.1*len(times))]\n",
    "\n",
    "    validation_main_df = main_df[(main_df.index >= last_5pct)]\n",
    "    main_df = main_df[(main_df.index < last_5pct)]\n",
    "    return validation_main_df,main_df"
   ]
  },
  {
   "cell_type": "code",
   "execution_count": 12,
   "id": "0dffd9ac-ee0d-4f48-92d2-669114e1114b",
   "metadata": {},
   "outputs": [],
   "source": [
    "validation_main_df1,main_df1 = data_preprcessing(data_2017)\n",
    "train_x1, train_y1 = preprocess_df(main_df1)\n",
    "validation_x1, validation_y1 = preprocess_df(validation_main_df1)"
   ]
  },
  {
   "cell_type": "code",
   "execution_count": 13,
   "id": "649ebb25-a731-462d-a85c-9870974b2892",
   "metadata": {},
   "outputs": [
    {
     "name": "stdout",
     "output_type": "stream",
     "text": [
      "train data: 325830 validation: 35872\n",
      "sells: 162915, buys: 162915\n",
      "VALIDATION sells: 17936, buys : 17936\n"
     ]
    }
   ],
   "source": [
    "print(f\"train data: {len(train_x1)} validation: {len(validation_x1)}\")\n",
    "print(f\"sells: {train_y1.count(0)}, buys: {train_y1.count(1)}\")\n",
    "print(f\"VALIDATION sells: {validation_y1.count(0)}, buys : {validation_y1.count(1)}\")\n",
    "\n",
    "train_y1 = np.asarray(train_y1)\n",
    "validation_y1 = np.asarray(validation_y1)"
   ]
  },
  {
   "cell_type": "code",
   "execution_count": 14,
   "id": "c25fb8b2-b1a8-4ff8-974b-51a9883480de",
   "metadata": {},
   "outputs": [
    {
     "name": "stdout",
     "output_type": "stream",
     "text": [
      "10183/10183 [==============================] - 49s 4ms/step\n",
      "325830\n"
     ]
    }
   ],
   "source": [
    "from sklearn.metrics import accuracy_score\n",
    "prediction = pd.DataFrame(model.predict(train_x1))\n",
    "\n",
    "m = np.zeros_like(prediction.values)\n",
    "m[np.arange(len(prediction)), prediction.values.argmax(1)] = 1\n",
    "\n",
    "prediction = pd.DataFrame(m, columns = prediction.columns).astype(int)\n",
    "prediction = prediction.drop(columns = {0})\n",
    "validation_y1 = pd.DataFrame(train_y1)\n",
    "print(len(train_y1))\n",
    "high_acurate = prediction.loc[prediction[1] > 0.55] #VALUES THAT HE PRESENTED OR PROBABLY GREATER THAN 0.55\n",
    "\n",
    "high_index = high_acurate.index     # GET THE INDEX OF THOSE WHO HAD PROB ABOVE THE SPECIFIED\n",
    "\n",
    "validation_y_used = pd.DataFrame(train_y1) # TRANSFORM NUMPY TO DATAFRAM\n",
    "prediction_compare  = validation_y_used.loc[high_index] #LOCATES THE INDEX THAT HAVE BEEN SEPARATED\n",
    "prediction_compare[0].value_counts() # SHOW THE VALUES. AS WE CHOOSE 0 IN THE OTHER THE 0 MUST HAVE A BIGGER PROB\n",
    "len(prediction)\n",
    "\n",
    "acc = accuracy_score(train_y1,prediction)"
   ]
  },
  {
   "cell_type": "code",
   "execution_count": 15,
   "id": "8ee3385a-44c7-4187-b064-a50fd6c15f30",
   "metadata": {},
   "outputs": [
    {
     "data": {
      "text/plain": [
       "0.7818095325783384"
      ]
     },
     "execution_count": 15,
     "metadata": {},
     "output_type": "execute_result"
    }
   ],
   "source": [
    "acc"
   ]
  },
  {
   "cell_type": "code",
   "execution_count": 16,
   "id": "021a1535-8568-4227-9834-55eee5f83719",
   "metadata": {},
   "outputs": [
    {
     "name": "stdout",
     "output_type": "stream",
     "text": [
      "Model: \"sequential_9\"\n",
      "_________________________________________________________________\n",
      " Layer (type)                Output Shape              Param #   \n",
      "=================================================================\n",
      " lstm_27 (LSTM)              (None, 8, 128)            73728     \n",
      "                                                                 \n",
      " dropout_36 (Dropout)        (None, 8, 128)            0         \n",
      "                                                                 \n",
      " batch_normalization_27 (Bat  (None, 8, 128)           512       \n",
      " chNormalization)                                                \n",
      "                                                                 \n",
      " lstm_28 (LSTM)              (None, 8, 128)            131584    \n",
      "                                                                 \n",
      " dropout_37 (Dropout)        (None, 8, 128)            0         \n",
      "                                                                 \n",
      " batch_normalization_28 (Bat  (None, 8, 128)           512       \n",
      " chNormalization)                                                \n",
      "                                                                 \n",
      " lstm_29 (LSTM)              (None, 128)               131584    \n",
      "                                                                 \n",
      " dropout_38 (Dropout)        (None, 128)               0         \n",
      "                                                                 \n",
      " batch_normalization_29 (Bat  (None, 128)              512       \n",
      " chNormalization)                                                \n",
      "                                                                 \n",
      " dense_18 (Dense)            (None, 32)                4128      \n",
      "                                                                 \n",
      " dropout_39 (Dropout)        (None, 32)                0         \n",
      "                                                                 \n",
      " dense_19 (Dense)            (None, 2)                 66        \n",
      "                                                                 \n",
      "=================================================================\n",
      "Total params: 342,626\n",
      "Trainable params: 341,858\n",
      "Non-trainable params: 768\n",
      "_________________________________________________________________\n"
     ]
    }
   ],
   "source": [
    "model.summary()"
   ]
  },
  {
   "cell_type": "code",
   "execution_count": 17,
   "id": "04c4ccbf-c60d-4b5e-b397-fe93870bd6f3",
   "metadata": {},
   "outputs": [],
   "source": [
    "prediction['actual_value']=validation_y_used[0]"
   ]
  },
  {
   "cell_type": "code",
   "execution_count": 18,
   "id": "94176eea-3bff-4494-b5bf-a68b8a930c6c",
   "metadata": {},
   "outputs": [],
   "source": [
    "prediction.columns=['perdicted', 'actual_value']"
   ]
  },
  {
   "cell_type": "code",
   "execution_count": 19,
   "id": "8413fb3c-f92e-4f9f-8f89-bd834a9b796d",
   "metadata": {},
   "outputs": [
    {
     "data": {
      "text/plain": [
       "perdicted       128384\n",
       "actual_value    128384\n",
       "dtype: int64"
      ]
     },
     "execution_count": 19,
     "metadata": {},
     "output_type": "execute_result"
    }
   ],
   "source": [
    "prediction.loc[(prediction['perdicted']==prediction['actual_value'])&(prediction['perdicted']==1)].count()"
   ]
  },
  {
   "cell_type": "code",
   "execution_count": 20,
   "id": "1b227054-ef1f-4948-89d5-59d266f0e462",
   "metadata": {},
   "outputs": [
    {
     "data": {
      "text/plain": [
       "perdicted       36562\n",
       "actual_value    36562\n",
       "dtype: int64"
      ]
     },
     "execution_count": 20,
     "metadata": {},
     "output_type": "execute_result"
    }
   ],
   "source": [
    "prediction.loc[(prediction['perdicted']!=prediction['actual_value'])&(prediction['perdicted']==1)].count()"
   ]
  },
  {
   "cell_type": "code",
   "execution_count": 21,
   "id": "0111df8c-0679-484f-bdfe-cd19a24a62d3",
   "metadata": {},
   "outputs": [],
   "source": [
    "prediction['balance']=0"
   ]
  },
  {
   "cell_type": "code",
   "execution_count": 22,
   "id": "e332b438-79a8-4982-94b2-e90d2284d5af",
   "metadata": {},
   "outputs": [],
   "source": [
    "price=10\n",
    "for i in range(len(prediction)):\n",
    "    if (prediction['perdicted'][i] == prediction['actual_value'][i]) & (prediction['perdicted'][i] == 1):\n",
    "        price = price+1\n",
    "    elif (prediction['perdicted'][i] != prediction['actual_value'][i]) & (prediction['perdicted'][i] == 1):\n",
    "        price = price-1\n",
    "    prediction['balance'][i] = price"
   ]
  },
  {
   "cell_type": "code",
   "execution_count": 23,
   "id": "b3a8b4ef-9c6b-4c1b-bef7-f9387bdf8e73",
   "metadata": {},
   "outputs": [
    {
     "data": {
      "text/plain": [
       "<Axes: >"
      ]
     },
     "execution_count": 23,
     "metadata": {},
     "output_type": "execute_result"
    },
    {
     "data": {
      "image/png": "[encoded data removed]",
      "text/plain": [
       "<Figure size 640x480 with 1 Axes>"
      ]
     },
     "metadata": {},
     "output_type": "display_data"
    }
   ],
   "source": [
    "prediction['balance'].loc[prediction['perdicted'] == 1][200:300].plot()"
   ]
  },
  {
   "cell_type": "code",
   "execution_count": null,
   "id": "0ce035d2-f728-47f7-81e0-3d27af40a0ec",
   "metadata": {},
   "outputs": [],
   "source": []
  }
 ],
 "metadata": {
  "kernelspec": {
   "display_name": "Python 3 (ipykernel)",
   "language": "python",
   "name": "python3"
  },
  "language_info": {
   "codemirror_mode": {
    "name": "ipython",
    "version": 3
   },
   "file_extension": ".py",
   "mimetype": "text/x-python",
   "name": "python",
   "nbconvert_exporter": "python",
   "pygments_lexer": "ipython3",
   "version": "3.10.9"
  }
 },
 "nbformat": 4,
 "nbformat_minor": 5
}
