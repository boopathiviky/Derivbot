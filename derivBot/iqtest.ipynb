{
 "cells": [
  {
   "cell_type": "code",
   "execution_count": 27,
   "id": "92caab8a-e754-4296-b387-069682bb21cd",
   "metadata": {},
   "outputs": [],
   "source": [
    "from iqoptionapi.stable_api import IQ_Option\n",
    "import logging\n",
    "import random\n",
    "import time\n",
    "# logging.basicConfig(level=logging.DEBUG,format='%(asctime)s %(message)s')\n",
    "iq=IQ_Option('dineshkumarvt@gmail.com','Dinesh@6699')\n",
    "status, reason = iq.connect()"
   ]
  },
  {
   "cell_type": "code",
   "execution_count": 28,
   "id": "465d5789-f488-4802-a260-770f5c561e52",
   "metadata": {},
   "outputs": [
    {
     "name": "stdout",
     "output_type": "stream",
     "text": [
      "Banca: 16647.65\n"
     ]
    }
   ],
   "source": [
    "print(\"Banca:\", iq.get_balance())"
   ]
  },
  {
   "cell_type": "code",
   "execution_count": 29,
   "id": "5b3ef86e-28cf-4dab-9c83-cca068c319a8",
   "metadata": {},
   "outputs": [
    {
     "ename": "TypeError",
     "evalue": "IQ_Option.check_win_v2() missing 1 required positional argument: 'polling_time'",
     "output_type": "error",
     "traceback": [
      "\u001b[1;31m---------------------------------------------------------------------------\u001b[0m",
      "\u001b[1;31mTypeError\u001b[0m                                 Traceback (most recent call last)",
      "Cell \u001b[1;32mIn[29], line 3\u001b[0m\n\u001b[0;32m      1\u001b[0m done,\u001b[38;5;28mid\u001b[39m \u001b[38;5;241m=\u001b[39m iq\u001b[38;5;241m.\u001b[39mbuy(\u001b[38;5;241m1\u001b[39m,\u001b[38;5;124m\"\u001b[39m\u001b[38;5;124mEURUSD\u001b[39m\u001b[38;5;124m\"\u001b[39m,\u001b[38;5;124m\"\u001b[39m\u001b[38;5;124mcall\u001b[39m\u001b[38;5;124m\"\u001b[39m,\u001b[38;5;241m1\u001b[39m)\n\u001b[1;32m----> 3\u001b[0m \u001b[43miq\u001b[49m\u001b[38;5;241;43m.\u001b[39;49m\u001b[43mcheck_win_v2\u001b[49m\u001b[43m(\u001b[49m\u001b[38;5;28;43mid\u001b[39;49m\u001b[43m)\u001b[49m\n",
      "\u001b[1;31mTypeError\u001b[0m: IQ_Option.check_win_v2() missing 1 required positional argument: 'polling_time'"
     ]
    }
   ],
   "source": [
    "\n",
    "\n",
    "done,id = iq.buy(1,\"EURUSD\",\"call\",1)\n",
    "\n",
    "iq.check_win_v2(id)"
   ]
  },
  {
   "cell_type": "code",
   "execution_count": 44,
   "id": "56d402da-01fa-4037-b179-88d9f89d384b",
   "metadata": {},
   "outputs": [
    {
     "name": "stdout",
     "output_type": "stream",
     "text": [
      "win\n",
      "loose\n",
      "loose\n",
      "loose\n",
      "win\n",
      "win\n"
     ]
    }
   ],
   "source": [
    "bets=[]\n",
    "betsies = iq.get_optioninfo(6)\n",
    "betsies = betsies['msg']['result']['closed_options']\n",
    "betsies\n",
    "# i=0\n",
    "for bt in betsies:\n",
    "    print(bt['win'])\n",
    "    bets.append(bt['win'])\n",
    "win = bets[-1:]"
   ]
  },
  {
   "cell_type": "code",
   "execution_count": 46,
   "id": "17ce79b5-a0c5-451f-b4a5-6e42f01dc824",
   "metadata": {},
   "outputs": [
    {
     "data": {
      "text/plain": [
       "'loose'"
      ]
     },
     "execution_count": 46,
     "metadata": {},
     "output_type": "execute_result"
    }
   ],
   "source": [
    "bets[1]"
   ]
  },
  {
   "cell_type": "code",
   "execution_count": null,
   "id": "e338b816-42f1-4ad3-b473-96f63513c192",
   "metadata": {},
   "outputs": [],
   "source": []
  }
 ],
 "metadata": {
  "kernelspec": {
   "display_name": "Python 3 (ipykernel)",
   "language": "python",
   "name": "python3"
  },
  "language_info": {
   "codemirror_mode": {
    "name": "ipython",
    "version": 3
   },
   "file_extension": ".py",
   "mimetype": "text/x-python",
   "name": "python",
   "nbconvert_exporter": "python",
   "pygments_lexer": "ipython3",
   "version": "3.10.9"
  }
 },
 "nbformat": 4,
 "nbformat_minor": 5
}
